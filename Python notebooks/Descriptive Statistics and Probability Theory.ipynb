{
 "cells": [
  {
   "cell_type": "markdown",
   "id": "1593b29f",
   "metadata": {},
   "source": [
    "# Descriptive Statistics and Probability Theory\n",
    "\n",
    "\n",
    "### This notebook is by Nana Amina Abubakar for Data Science MBAN 6110 T\n",
    "\n",
    "Scenario:\n",
    "\n",
    "You are a data analyst at an e-commerce company that sells a variety of products. Your company wants to better understand how various products perform across regions, in order to devise its sales strategy for next year.\n",
    "\n",
    "You have been provided with data includes information about the product, the region where the product was sold, the price of the product, the number of units sold, and the date of the sale.\n",
    "\n",
    "Your task is to clean the data as you see fit, and conduct exploratory analysis which will help the company build a sales strategy for the following year.\n",
    "\n",
    "In addition to the analysis, be sure to answer the following questions:\n",
    "\n",
    "1) What conclusions can you draw about sales performance of various products and regions?\n",
    "\n",
    "2) What recommendations do you have for the business?\n",
    "\n",
    "3) Describe your data cleaning approach. How and why did you decide on which cleaning techniques to use?\n"
   ]
  },
  {
   "cell_type": "markdown",
   "id": "70daaca5",
   "metadata": {},
   "source": [
    "## Content\n",
    "\n",
    "1. [Import Libraries](#1.-Import-Libraries)\n",
    "\n",
    "2. [Data Cleaning](#2.-Data-Cleaning)\n",
    "\n",
    "3. [Data Exploration](#3.-Data-Exploration)\n",
    "\n",
    "4. [Conclusions](#4.-Conclusions)\n"
   ]
  },
  {
   "cell_type": "markdown",
   "id": "73837bd1",
   "metadata": {},
   "source": [
    "### 1. Import Libraries\n",
    "\n",
    "I imported all the libraries to be used in this notebook. I do this at the beginning of every project for a better final outlook and presentation to the target audience."
   ]
  },
  {
   "cell_type": "code",
   "execution_count": 1,
   "id": "089e5e56",
   "metadata": {},
   "outputs": [],
   "source": [
    "import pandas as pd # for data manipulation and analysis\n",
    "import numpy as np # for working with arrays and carrying out mathematical operations. Pandas is built on Numpy\n",
    "import csv # to read and write csv files\n",
    "import matplotlib.pyplot as plt # for plotting\n",
    "import seaborn as sns # for plotting\n",
    "import warnings\n",
    "warnings.filterwarnings('ignore')\n"
   ]
  },
  {
   "cell_type": "markdown",
   "id": "bc83ccf2",
   "metadata": {},
   "source": [
    "### 2. Data Cleaning\n",
    "\n",
    "I handled all missing values, removed duplicates, corrected data types, and addressed any outliers or anomalies. \n",
    "\n",
    "\n",
    "This section answers:\n",
    " Describe your data cleaning approach. How and why did you decide on which cleaning techniques to use?"
   ]
  },
  {
   "cell_type": "code",
   "execution_count": 2,
   "id": "36376005",
   "metadata": {},
   "outputs": [],
   "source": [
    "# reading the data in jupyter notebook\n",
    "\n",
    "df = pd.read_csv('sales_data.csv')"
   ]
  },
  {
   "cell_type": "code",
   "execution_count": 3,
   "id": "d1f1eb60",
   "metadata": {
    "scrolled": true
   },
   "outputs": [
    {
     "data": {
      "text/html": [
       "<div>\n",
       "<style scoped>\n",
       "    .dataframe tbody tr th:only-of-type {\n",
       "        vertical-align: middle;\n",
       "    }\n",
       "\n",
       "    .dataframe tbody tr th {\n",
       "        vertical-align: top;\n",
       "    }\n",
       "\n",
       "    .dataframe thead th {\n",
       "        text-align: right;\n",
       "    }\n",
       "</style>\n",
       "<table border=\"1\" class=\"dataframe\">\n",
       "  <thead>\n",
       "    <tr style=\"text-align: right;\">\n",
       "      <th></th>\n",
       "      <th>Product</th>\n",
       "      <th>Region</th>\n",
       "      <th>Price</th>\n",
       "      <th>Units Sold</th>\n",
       "      <th>Sale Date</th>\n",
       "    </tr>\n",
       "  </thead>\n",
       "  <tbody>\n",
       "    <tr>\n",
       "      <th>0</th>\n",
       "      <td>NaN</td>\n",
       "      <td>Region_1</td>\n",
       "      <td>72.87</td>\n",
       "      <td>10.0</td>\n",
       "      <td>2022-01-01</td>\n",
       "    </tr>\n",
       "    <tr>\n",
       "      <th>1</th>\n",
       "      <td>Product_40</td>\n",
       "      <td>Region_2</td>\n",
       "      <td>46.19</td>\n",
       "      <td>10.0</td>\n",
       "      <td>2022-01-02</td>\n",
       "    </tr>\n",
       "    <tr>\n",
       "      <th>2</th>\n",
       "      <td>Product_1</td>\n",
       "      <td>Region_5</td>\n",
       "      <td>NaN</td>\n",
       "      <td>4.0</td>\n",
       "      <td>2022-01-03</td>\n",
       "    </tr>\n",
       "    <tr>\n",
       "      <th>3</th>\n",
       "      <td>Product_6</td>\n",
       "      <td>Region_8</td>\n",
       "      <td>143.47</td>\n",
       "      <td>8.0</td>\n",
       "      <td>2022-01-04</td>\n",
       "    </tr>\n",
       "    <tr>\n",
       "      <th>4</th>\n",
       "      <td>Product_44</td>\n",
       "      <td>Region_4</td>\n",
       "      <td>122.54</td>\n",
       "      <td>10.0</td>\n",
       "      <td>2022-01-05</td>\n",
       "    </tr>\n",
       "  </tbody>\n",
       "</table>\n",
       "</div>"
      ],
      "text/plain": [
       "      Product    Region   Price  Units Sold   Sale Date\n",
       "0         NaN  Region_1   72.87        10.0  2022-01-01\n",
       "1  Product_40  Region_2   46.19        10.0  2022-01-02\n",
       "2   Product_1  Region_5     NaN         4.0  2022-01-03\n",
       "3   Product_6  Region_8  143.47         8.0  2022-01-04\n",
       "4  Product_44  Region_4  122.54        10.0  2022-01-05"
      ]
     },
     "execution_count": 3,
     "metadata": {},
     "output_type": "execute_result"
    }
   ],
   "source": [
    "# to give the top 5 data entries\n",
    "\n",
    "df.head() "
   ]
  },
  {
   "cell_type": "code",
   "execution_count": 4,
   "id": "57f7f15b",
   "metadata": {},
   "outputs": [
    {
     "data": {
      "text/html": [
       "<div>\n",
       "<style scoped>\n",
       "    .dataframe tbody tr th:only-of-type {\n",
       "        vertical-align: middle;\n",
       "    }\n",
       "\n",
       "    .dataframe tbody tr th {\n",
       "        vertical-align: top;\n",
       "    }\n",
       "\n",
       "    .dataframe thead th {\n",
       "        text-align: right;\n",
       "    }\n",
       "</style>\n",
       "<table border=\"1\" class=\"dataframe\">\n",
       "  <thead>\n",
       "    <tr style=\"text-align: right;\">\n",
       "      <th></th>\n",
       "      <th>Product</th>\n",
       "      <th>Region</th>\n",
       "      <th>Price</th>\n",
       "      <th>Units Sold</th>\n",
       "      <th>Sale Date</th>\n",
       "    </tr>\n",
       "  </thead>\n",
       "  <tbody>\n",
       "    <tr>\n",
       "      <th>1045</th>\n",
       "      <td>Product_42</td>\n",
       "      <td>Region_3</td>\n",
       "      <td>18.63</td>\n",
       "      <td>9.0</td>\n",
       "      <td>2023-07-10</td>\n",
       "    </tr>\n",
       "    <tr>\n",
       "      <th>1046</th>\n",
       "      <td>Product_4</td>\n",
       "      <td>Region_3</td>\n",
       "      <td>159.27</td>\n",
       "      <td>10.0</td>\n",
       "      <td>2024-07-14</td>\n",
       "    </tr>\n",
       "    <tr>\n",
       "      <th>1047</th>\n",
       "      <td>Product_43</td>\n",
       "      <td>Region_1</td>\n",
       "      <td>2.91</td>\n",
       "      <td>13.0</td>\n",
       "      <td>2023-08-17</td>\n",
       "    </tr>\n",
       "    <tr>\n",
       "      <th>1048</th>\n",
       "      <td>Product_27</td>\n",
       "      <td>Region_7</td>\n",
       "      <td>1.96</td>\n",
       "      <td>8.0</td>\n",
       "      <td>2024-03-10</td>\n",
       "    </tr>\n",
       "    <tr>\n",
       "      <th>1049</th>\n",
       "      <td>Product_3</td>\n",
       "      <td>NaN</td>\n",
       "      <td>302.68</td>\n",
       "      <td>11.0</td>\n",
       "      <td>2023-09-09</td>\n",
       "    </tr>\n",
       "  </tbody>\n",
       "</table>\n",
       "</div>"
      ],
      "text/plain": [
       "         Product    Region   Price  Units Sold   Sale Date\n",
       "1045  Product_42  Region_3   18.63         9.0  2023-07-10\n",
       "1046   Product_4  Region_3  159.27        10.0  2024-07-14\n",
       "1047  Product_43  Region_1    2.91        13.0  2023-08-17\n",
       "1048  Product_27  Region_7    1.96         8.0  2024-03-10\n",
       "1049   Product_3       NaN  302.68        11.0  2023-09-09"
      ]
     },
     "execution_count": 4,
     "metadata": {},
     "output_type": "execute_result"
    }
   ],
   "source": [
    "# to give the bottom 5 data entries\n",
    "\n",
    "df.tail() "
   ]
  },
  {
   "cell_type": "code",
   "execution_count": 5,
   "id": "76f05551",
   "metadata": {},
   "outputs": [
    {
     "data": {
      "text/plain": [
       "(1050, 5)"
      ]
     },
     "execution_count": 5,
     "metadata": {},
     "output_type": "execute_result"
    }
   ],
   "source": [
    "#Get the number of rows and columns\n",
    "\n",
    "df.shape "
   ]
  },
  {
   "cell_type": "code",
   "execution_count": 6,
   "id": "aeade18c",
   "metadata": {},
   "outputs": [
    {
     "data": {
      "text/plain": [
       "Index(['Product', 'Region', 'Price', 'Units Sold', 'Sale Date'], dtype='object')"
      ]
     },
     "execution_count": 6,
     "metadata": {},
     "output_type": "execute_result"
    }
   ],
   "source": [
    "# Check the column names in the DF\n",
    "\n",
    "df.columns "
   ]
  },
  {
   "cell_type": "code",
   "execution_count": 7,
   "id": "d5ac909b",
   "metadata": {
    "scrolled": true
   },
   "outputs": [
    {
     "name": "stdout",
     "output_type": "stream",
     "text": [
      "<class 'pandas.core.frame.DataFrame'>\n",
      "RangeIndex: 1050 entries, 0 to 1049\n",
      "Data columns (total 5 columns):\n",
      " #   Column      Non-Null Count  Dtype  \n",
      "---  ------      --------------  -----  \n",
      " 0   Product     947 non-null    object \n",
      " 1   Region      942 non-null    object \n",
      " 2   Price       945 non-null    float64\n",
      " 3   Units Sold  943 non-null    float64\n",
      " 4   Sale Date   1050 non-null   object \n",
      "dtypes: float64(2), object(3)\n",
      "memory usage: 41.1+ KB\n"
     ]
    }
   ],
   "source": [
    "# View the data types in the DF\n",
    "\n",
    "#The missing value for each column is around 11% of the number of entries. \n",
    "# I can choose to delete them all together but i decided to further clean the data to avoid bias. \n",
    "\n",
    "df.info() "
   ]
  },
  {
   "cell_type": "code",
   "execution_count": 8,
   "id": "9d6ace05",
   "metadata": {},
   "outputs": [
    {
     "data": {
      "text/html": [
       "<div>\n",
       "<style scoped>\n",
       "    .dataframe tbody tr th:only-of-type {\n",
       "        vertical-align: middle;\n",
       "    }\n",
       "\n",
       "    .dataframe tbody tr th {\n",
       "        vertical-align: top;\n",
       "    }\n",
       "\n",
       "    .dataframe thead th {\n",
       "        text-align: right;\n",
       "    }\n",
       "</style>\n",
       "<table border=\"1\" class=\"dataframe\">\n",
       "  <thead>\n",
       "    <tr style=\"text-align: right;\">\n",
       "      <th></th>\n",
       "      <th>Product</th>\n",
       "      <th>Region</th>\n",
       "      <th>Price</th>\n",
       "      <th>Units Sold</th>\n",
       "      <th>Sale Date</th>\n",
       "    </tr>\n",
       "  </thead>\n",
       "  <tbody>\n",
       "    <tr>\n",
       "      <th>count</th>\n",
       "      <td>947</td>\n",
       "      <td>942</td>\n",
       "      <td>945.000000</td>\n",
       "      <td>943.000000</td>\n",
       "      <td>1050</td>\n",
       "    </tr>\n",
       "    <tr>\n",
       "      <th>unique</th>\n",
       "      <td>50</td>\n",
       "      <td>10</td>\n",
       "      <td>NaN</td>\n",
       "      <td>NaN</td>\n",
       "      <td>1000</td>\n",
       "    </tr>\n",
       "    <tr>\n",
       "      <th>top</th>\n",
       "      <td>Product_4</td>\n",
       "      <td>Region_5</td>\n",
       "      <td>NaN</td>\n",
       "      <td>NaN</td>\n",
       "      <td>2024-06-17</td>\n",
       "    </tr>\n",
       "    <tr>\n",
       "      <th>freq</th>\n",
       "      <td>30</td>\n",
       "      <td>112</td>\n",
       "      <td>NaN</td>\n",
       "      <td>NaN</td>\n",
       "      <td>2</td>\n",
       "    </tr>\n",
       "    <tr>\n",
       "      <th>mean</th>\n",
       "      <td>NaN</td>\n",
       "      <td>NaN</td>\n",
       "      <td>108.628011</td>\n",
       "      <td>10.200424</td>\n",
       "      <td>NaN</td>\n",
       "    </tr>\n",
       "    <tr>\n",
       "      <th>std</th>\n",
       "      <td>NaN</td>\n",
       "      <td>NaN</td>\n",
       "      <td>167.350086</td>\n",
       "      <td>3.247589</td>\n",
       "      <td>NaN</td>\n",
       "    </tr>\n",
       "    <tr>\n",
       "      <th>min</th>\n",
       "      <td>NaN</td>\n",
       "      <td>NaN</td>\n",
       "      <td>0.190000</td>\n",
       "      <td>2.000000</td>\n",
       "      <td>NaN</td>\n",
       "    </tr>\n",
       "    <tr>\n",
       "      <th>25%</th>\n",
       "      <td>NaN</td>\n",
       "      <td>NaN</td>\n",
       "      <td>26.420000</td>\n",
       "      <td>8.000000</td>\n",
       "      <td>NaN</td>\n",
       "    </tr>\n",
       "    <tr>\n",
       "      <th>50%</th>\n",
       "      <td>NaN</td>\n",
       "      <td>NaN</td>\n",
       "      <td>64.640000</td>\n",
       "      <td>10.000000</td>\n",
       "      <td>NaN</td>\n",
       "    </tr>\n",
       "    <tr>\n",
       "      <th>75%</th>\n",
       "      <td>NaN</td>\n",
       "      <td>NaN</td>\n",
       "      <td>142.310000</td>\n",
       "      <td>12.000000</td>\n",
       "      <td>NaN</td>\n",
       "    </tr>\n",
       "    <tr>\n",
       "      <th>max</th>\n",
       "      <td>NaN</td>\n",
       "      <td>NaN</td>\n",
       "      <td>2636.900000</td>\n",
       "      <td>22.000000</td>\n",
       "      <td>NaN</td>\n",
       "    </tr>\n",
       "  </tbody>\n",
       "</table>\n",
       "</div>"
      ],
      "text/plain": [
       "          Product    Region        Price  Units Sold   Sale Date\n",
       "count         947       942   945.000000  943.000000        1050\n",
       "unique         50        10          NaN         NaN        1000\n",
       "top     Product_4  Region_5          NaN         NaN  2024-06-17\n",
       "freq           30       112          NaN         NaN           2\n",
       "mean          NaN       NaN   108.628011   10.200424         NaN\n",
       "std           NaN       NaN   167.350086    3.247589         NaN\n",
       "min           NaN       NaN     0.190000    2.000000         NaN\n",
       "25%           NaN       NaN    26.420000    8.000000         NaN\n",
       "50%           NaN       NaN    64.640000   10.000000         NaN\n",
       "75%           NaN       NaN   142.310000   12.000000         NaN\n",
       "max           NaN       NaN  2636.900000   22.000000         NaN"
      ]
     },
     "execution_count": 8,
     "metadata": {},
     "output_type": "execute_result"
    }
   ],
   "source": [
    "# tells the mean, median, mode and quartiles of the df.\n",
    "#This gives me better view of the number of entries and the number of missing data per column.\n",
    "\n",
    "df.describe(include=\"all\") "
   ]
  },
  {
   "cell_type": "markdown",
   "id": "619e6a32",
   "metadata": {},
   "source": [
    "### Removing duplicates"
   ]
  },
  {
   "cell_type": "code",
   "execution_count": 9,
   "id": "42a2eb4e",
   "metadata": {},
   "outputs": [
    {
     "data": {
      "text/plain": [
       "2024-06-17    2\n",
       "2024-04-01    2\n",
       "2022-02-03    2\n",
       "2022-05-03    2\n",
       "2023-03-05    2\n",
       "             ..\n",
       "2023-05-25    1\n",
       "2023-02-21    1\n",
       "2022-07-06    1\n",
       "2022-06-19    1\n",
       "2022-07-29    1\n",
       "Name: Sale Date, Length: 1000, dtype: int64"
      ]
     },
     "execution_count": 9,
     "metadata": {},
     "output_type": "execute_result"
    }
   ],
   "source": [
    "#Sales date had 50 duplicates \n",
    "\n",
    "df['Sale Date'].value_counts()"
   ]
  },
  {
   "cell_type": "code",
   "execution_count": 10,
   "id": "426784fd",
   "metadata": {},
   "outputs": [],
   "source": [
    "#I chose to remove these duplicates\n",
    "#Assumption- data is entered at the end of each day \n",
    "#hence there should be unique sales date and no duplicates.\n",
    "\n",
    "df = df.drop_duplicates()"
   ]
  },
  {
   "cell_type": "code",
   "execution_count": 11,
   "id": "eee536f3",
   "metadata": {},
   "outputs": [
    {
     "data": {
      "text/html": [
       "<div>\n",
       "<style scoped>\n",
       "    .dataframe tbody tr th:only-of-type {\n",
       "        vertical-align: middle;\n",
       "    }\n",
       "\n",
       "    .dataframe tbody tr th {\n",
       "        vertical-align: top;\n",
       "    }\n",
       "\n",
       "    .dataframe thead th {\n",
       "        text-align: right;\n",
       "    }\n",
       "</style>\n",
       "<table border=\"1\" class=\"dataframe\">\n",
       "  <thead>\n",
       "    <tr style=\"text-align: right;\">\n",
       "      <th></th>\n",
       "      <th>Product</th>\n",
       "      <th>Region</th>\n",
       "      <th>Price</th>\n",
       "      <th>Units Sold</th>\n",
       "      <th>Sale Date</th>\n",
       "    </tr>\n",
       "  </thead>\n",
       "  <tbody>\n",
       "    <tr>\n",
       "      <th>count</th>\n",
       "      <td>900</td>\n",
       "      <td>901</td>\n",
       "      <td>901.000000</td>\n",
       "      <td>901.000000</td>\n",
       "      <td>1001</td>\n",
       "    </tr>\n",
       "    <tr>\n",
       "      <th>unique</th>\n",
       "      <td>50</td>\n",
       "      <td>10</td>\n",
       "      <td>NaN</td>\n",
       "      <td>NaN</td>\n",
       "      <td>1000</td>\n",
       "    </tr>\n",
       "    <tr>\n",
       "      <th>top</th>\n",
       "      <td>Product_4</td>\n",
       "      <td>Region_5</td>\n",
       "      <td>NaN</td>\n",
       "      <td>NaN</td>\n",
       "      <td>2023-02-22</td>\n",
       "    </tr>\n",
       "    <tr>\n",
       "      <th>freq</th>\n",
       "      <td>28</td>\n",
       "      <td>109</td>\n",
       "      <td>NaN</td>\n",
       "      <td>NaN</td>\n",
       "      <td>2</td>\n",
       "    </tr>\n",
       "    <tr>\n",
       "      <th>mean</th>\n",
       "      <td>NaN</td>\n",
       "      <td>NaN</td>\n",
       "      <td>108.922597</td>\n",
       "      <td>10.173141</td>\n",
       "      <td>NaN</td>\n",
       "    </tr>\n",
       "    <tr>\n",
       "      <th>std</th>\n",
       "      <td>NaN</td>\n",
       "      <td>NaN</td>\n",
       "      <td>169.931751</td>\n",
       "      <td>3.267175</td>\n",
       "      <td>NaN</td>\n",
       "    </tr>\n",
       "    <tr>\n",
       "      <th>min</th>\n",
       "      <td>NaN</td>\n",
       "      <td>NaN</td>\n",
       "      <td>0.190000</td>\n",
       "      <td>2.000000</td>\n",
       "      <td>NaN</td>\n",
       "    </tr>\n",
       "    <tr>\n",
       "      <th>25%</th>\n",
       "      <td>NaN</td>\n",
       "      <td>NaN</td>\n",
       "      <td>26.870000</td>\n",
       "      <td>8.000000</td>\n",
       "      <td>NaN</td>\n",
       "    </tr>\n",
       "    <tr>\n",
       "      <th>50%</th>\n",
       "      <td>NaN</td>\n",
       "      <td>NaN</td>\n",
       "      <td>66.410000</td>\n",
       "      <td>10.000000</td>\n",
       "      <td>NaN</td>\n",
       "    </tr>\n",
       "    <tr>\n",
       "      <th>75%</th>\n",
       "      <td>NaN</td>\n",
       "      <td>NaN</td>\n",
       "      <td>141.150000</td>\n",
       "      <td>12.000000</td>\n",
       "      <td>NaN</td>\n",
       "    </tr>\n",
       "    <tr>\n",
       "      <th>max</th>\n",
       "      <td>NaN</td>\n",
       "      <td>NaN</td>\n",
       "      <td>2636.900000</td>\n",
       "      <td>22.000000</td>\n",
       "      <td>NaN</td>\n",
       "    </tr>\n",
       "  </tbody>\n",
       "</table>\n",
       "</div>"
      ],
      "text/plain": [
       "          Product    Region        Price  Units Sold   Sale Date\n",
       "count         900       901   901.000000  901.000000        1001\n",
       "unique         50        10          NaN         NaN        1000\n",
       "top     Product_4  Region_5          NaN         NaN  2023-02-22\n",
       "freq           28       109          NaN         NaN           2\n",
       "mean          NaN       NaN   108.922597   10.173141         NaN\n",
       "std           NaN       NaN   169.931751    3.267175         NaN\n",
       "min           NaN       NaN     0.190000    2.000000         NaN\n",
       "25%           NaN       NaN    26.870000    8.000000         NaN\n",
       "50%           NaN       NaN    66.410000   10.000000         NaN\n",
       "75%           NaN       NaN   141.150000   12.000000         NaN\n",
       "max           NaN       NaN  2636.900000   22.000000         NaN"
      ]
     },
     "execution_count": 11,
     "metadata": {},
     "output_type": "execute_result"
    }
   ],
   "source": [
    "df.describe(include=\"all\")"
   ]
  },
  {
   "cell_type": "code",
   "execution_count": 12,
   "id": "bdee10e8",
   "metadata": {},
   "outputs": [
    {
     "name": "stdout",
     "output_type": "stream",
     "text": [
      "     Product    Region    Price  Units Sold   Sale Date\n",
      "417      NaN  Region_5   254.46        15.0  2023-02-22\n",
      "1026     NaN  Region_5  2544.60        15.0  2023-02-22\n"
     ]
    }
   ],
   "source": [
    "# One duplicate value was still present which i needed to remove.\n",
    "# It is clear that duplicate is an entry error\n",
    "\n",
    "subset_data = df[df['Sale Date'] == '2023-02-22']\n",
    "print(subset_data)"
   ]
  },
  {
   "cell_type": "code",
   "execution_count": 13,
   "id": "5d0ff12a",
   "metadata": {},
   "outputs": [],
   "source": [
    "df = df.drop(index=1026)"
   ]
  },
  {
   "cell_type": "code",
   "execution_count": 14,
   "id": "9fde5c4b",
   "metadata": {},
   "outputs": [
    {
     "name": "stdout",
     "output_type": "stream",
     "text": [
      "    Product    Region   Price  Units Sold   Sale Date\n",
      "417     NaN  Region_5  254.46        15.0  2023-02-22\n"
     ]
    }
   ],
   "source": [
    "subset_data = df[df['Sale Date'] == '2023-02-22']\n",
    "print(subset_data)"
   ]
  },
  {
   "cell_type": "code",
   "execution_count": 15,
   "id": "4c671cfb",
   "metadata": {},
   "outputs": [
    {
     "data": {
      "text/html": [
       "<div>\n",
       "<style scoped>\n",
       "    .dataframe tbody tr th:only-of-type {\n",
       "        vertical-align: middle;\n",
       "    }\n",
       "\n",
       "    .dataframe tbody tr th {\n",
       "        vertical-align: top;\n",
       "    }\n",
       "\n",
       "    .dataframe thead th {\n",
       "        text-align: right;\n",
       "    }\n",
       "</style>\n",
       "<table border=\"1\" class=\"dataframe\">\n",
       "  <thead>\n",
       "    <tr style=\"text-align: right;\">\n",
       "      <th></th>\n",
       "      <th>Product</th>\n",
       "      <th>Region</th>\n",
       "      <th>Price</th>\n",
       "      <th>Units Sold</th>\n",
       "      <th>Sale Date</th>\n",
       "    </tr>\n",
       "  </thead>\n",
       "  <tbody>\n",
       "    <tr>\n",
       "      <th>count</th>\n",
       "      <td>900</td>\n",
       "      <td>900</td>\n",
       "      <td>900.000000</td>\n",
       "      <td>900.000000</td>\n",
       "      <td>1000</td>\n",
       "    </tr>\n",
       "    <tr>\n",
       "      <th>unique</th>\n",
       "      <td>50</td>\n",
       "      <td>10</td>\n",
       "      <td>NaN</td>\n",
       "      <td>NaN</td>\n",
       "      <td>1000</td>\n",
       "    </tr>\n",
       "    <tr>\n",
       "      <th>top</th>\n",
       "      <td>Product_4</td>\n",
       "      <td>Region_5</td>\n",
       "      <td>NaN</td>\n",
       "      <td>NaN</td>\n",
       "      <td>2023-10-10</td>\n",
       "    </tr>\n",
       "    <tr>\n",
       "      <th>freq</th>\n",
       "      <td>28</td>\n",
       "      <td>108</td>\n",
       "      <td>NaN</td>\n",
       "      <td>NaN</td>\n",
       "      <td>1</td>\n",
       "    </tr>\n",
       "    <tr>\n",
       "      <th>mean</th>\n",
       "      <td>NaN</td>\n",
       "      <td>NaN</td>\n",
       "      <td>106.216289</td>\n",
       "      <td>10.167778</td>\n",
       "      <td>NaN</td>\n",
       "    </tr>\n",
       "    <tr>\n",
       "      <th>std</th>\n",
       "      <td>NaN</td>\n",
       "      <td>NaN</td>\n",
       "      <td>149.340425</td>\n",
       "      <td>3.265021</td>\n",
       "      <td>NaN</td>\n",
       "    </tr>\n",
       "    <tr>\n",
       "      <th>min</th>\n",
       "      <td>NaN</td>\n",
       "      <td>NaN</td>\n",
       "      <td>0.190000</td>\n",
       "      <td>2.000000</td>\n",
       "      <td>NaN</td>\n",
       "    </tr>\n",
       "    <tr>\n",
       "      <th>25%</th>\n",
       "      <td>NaN</td>\n",
       "      <td>NaN</td>\n",
       "      <td>26.817500</td>\n",
       "      <td>8.000000</td>\n",
       "      <td>NaN</td>\n",
       "    </tr>\n",
       "    <tr>\n",
       "      <th>50%</th>\n",
       "      <td>NaN</td>\n",
       "      <td>NaN</td>\n",
       "      <td>66.315000</td>\n",
       "      <td>10.000000</td>\n",
       "      <td>NaN</td>\n",
       "    </tr>\n",
       "    <tr>\n",
       "      <th>75%</th>\n",
       "      <td>NaN</td>\n",
       "      <td>NaN</td>\n",
       "      <td>140.835000</td>\n",
       "      <td>12.000000</td>\n",
       "      <td>NaN</td>\n",
       "    </tr>\n",
       "    <tr>\n",
       "      <th>max</th>\n",
       "      <td>NaN</td>\n",
       "      <td>NaN</td>\n",
       "      <td>2636.900000</td>\n",
       "      <td>22.000000</td>\n",
       "      <td>NaN</td>\n",
       "    </tr>\n",
       "  </tbody>\n",
       "</table>\n",
       "</div>"
      ],
      "text/plain": [
       "          Product    Region        Price  Units Sold   Sale Date\n",
       "count         900       900   900.000000  900.000000        1000\n",
       "unique         50        10          NaN         NaN        1000\n",
       "top     Product_4  Region_5          NaN         NaN  2023-10-10\n",
       "freq           28       108          NaN         NaN           1\n",
       "mean          NaN       NaN   106.216289   10.167778         NaN\n",
       "std           NaN       NaN   149.340425    3.265021         NaN\n",
       "min           NaN       NaN     0.190000    2.000000         NaN\n",
       "25%           NaN       NaN    26.817500    8.000000         NaN\n",
       "50%           NaN       NaN    66.315000   10.000000         NaN\n",
       "75%           NaN       NaN   140.835000   12.000000         NaN\n",
       "max           NaN       NaN  2636.900000   22.000000         NaN"
      ]
     },
     "execution_count": 15,
     "metadata": {},
     "output_type": "execute_result"
    }
   ],
   "source": [
    "#sales date has been fully cleaned.\n",
    "\n",
    "df.describe(include=\"all\")"
   ]
  },
  {
   "cell_type": "markdown",
   "id": "48d4c1e4",
   "metadata": {},
   "source": [
    "### Filling empty cells\n",
    "The remaining columns had empty cells which needed to be filled with different methods."
   ]
  },
  {
   "cell_type": "code",
   "execution_count": 16,
   "id": "1928657a",
   "metadata": {},
   "outputs": [
    {
     "data": {
      "text/plain": [
       "Product        True\n",
       "Region         True\n",
       "Price          True\n",
       "Units Sold     True\n",
       "Sale Date     False\n",
       "dtype: bool"
      ]
     },
     "execution_count": 16,
     "metadata": {},
     "output_type": "execute_result"
    }
   ],
   "source": [
    "#this shows that only sale date has no empty entry\n",
    "\n",
    "df.isna().any()"
   ]
  },
  {
   "cell_type": "code",
   "execution_count": 17,
   "id": "23e38c9f",
   "metadata": {
    "scrolled": true
   },
   "outputs": [
    {
     "data": {
      "text/plain": [
       "Product_4     28\n",
       "Product_24    28\n",
       "Product_43    26\n",
       "Product_23    24\n",
       "Product_49    24\n",
       "Product_40    24\n",
       "Product_8     23\n",
       "Product_50    21\n",
       "Product_17    21\n",
       "Product_3     21\n",
       "Product_19    21\n",
       "Product_1     20\n",
       "Product_10    20\n",
       "Product_9     20\n",
       "Product_27    20\n",
       "Product_15    20\n",
       "Product_36    20\n",
       "Product_37    19\n",
       "Product_45    19\n",
       "Product_42    19\n",
       "Product_2     19\n",
       "Product_38    19\n",
       "Product_28    19\n",
       "Product_22    19\n",
       "Product_7     18\n",
       "Product_26    18\n",
       "Product_6     17\n",
       "Product_13    17\n",
       "Product_48    17\n",
       "Product_31    17\n",
       "Product_20    16\n",
       "Product_46    16\n",
       "Product_34    16\n",
       "Product_33    16\n",
       "Product_30    16\n",
       "Product_29    15\n",
       "Product_21    15\n",
       "Product_16    15\n",
       "Product_44    15\n",
       "Product_25    14\n",
       "Product_32    14\n",
       "Product_12    13\n",
       "Product_41    13\n",
       "Product_35    13\n",
       "Product_5     13\n",
       "Product_18    13\n",
       "Product_11    13\n",
       "Product_14    13\n",
       "Product_47    12\n",
       "Product_39    11\n",
       "Name: Product, dtype: int64"
      ]
     },
     "execution_count": 17,
     "metadata": {},
     "output_type": "execute_result"
    }
   ],
   "source": [
    "#to show the ranking of each product\n",
    "\n",
    "df['Product'].value_counts()"
   ]
  },
  {
   "cell_type": "code",
   "execution_count": 21,
   "id": "eaad814e",
   "metadata": {},
   "outputs": [],
   "source": [
    "# because the difference between the top 3 products is just multiples of 2\n",
    "#I used the fill forward method.\n",
    "#Using the median here will shoot up the top performing product and I wanted to avoid that\n",
    "\n",
    "df['Product'].fillna(method='ffill', inplace=True)"
   ]
  },
  {
   "cell_type": "code",
   "execution_count": 22,
   "id": "a6ee72c8",
   "metadata": {},
   "outputs": [
    {
     "data": {
      "text/plain": [
       "Product_24    31\n",
       "Product_43    30\n",
       "Product_4     29\n",
       "Product_23    28\n",
       "Product_8     27\n",
       "Product_40    27\n",
       "Product_49    26\n",
       "Product_1     25\n",
       "Product_3     24\n",
       "Product_45    23\n",
       "Product_19    23\n",
       "Product_37    23\n",
       "Product_9     23\n",
       "Product_15    23\n",
       "Product_50    22\n",
       "Product_38    22\n",
       "Product_28    22\n",
       "Product_10    22\n",
       "Product_17    22\n",
       "Product_27    21\n",
       "Product_42    21\n",
       "Product_22    21\n",
       "Product_36    20\n",
       "Product_48    20\n",
       "Product_13    20\n",
       "Product_7     20\n",
       "Product_6     20\n",
       "Product_20    19\n",
       "Product_34    19\n",
       "Product_2     19\n",
       "Product_21    18\n",
       "Product_26    18\n",
       "Product_31    18\n",
       "Product_30    17\n",
       "Product_44    17\n",
       "Product_12    16\n",
       "Product_25    16\n",
       "Product_46    16\n",
       "Product_29    16\n",
       "Product_33    16\n",
       "Product_16    15\n",
       "Product_5     15\n",
       "Product_18    15\n",
       "Product_32    14\n",
       "Product_47    14\n",
       "Product_35    14\n",
       "Product_11    14\n",
       "Product_41    13\n",
       "Product_39    13\n",
       "Product_14    13\n",
       "Name: Product, dtype: int64"
      ]
     },
     "execution_count": 22,
     "metadata": {},
     "output_type": "execute_result"
    }
   ],
   "source": [
    "# the ranking did not change significantly especially for the top 3 which was my goal to avoid bias\n",
    "\n",
    "df['Product'].value_counts()"
   ]
  },
  {
   "cell_type": "code",
   "execution_count": 23,
   "id": "31148160",
   "metadata": {},
   "outputs": [
    {
     "data": {
      "text/plain": [
       "Product       False\n",
       "Region         True\n",
       "Price          True\n",
       "Units Sold     True\n",
       "Sale Date     False\n",
       "dtype: bool"
      ]
     },
     "execution_count": 23,
     "metadata": {},
     "output_type": "execute_result"
    }
   ],
   "source": [
    "#After doing this, the product section had no empty columns\n",
    "\n",
    "df.isna().any() "
   ]
  },
  {
   "cell_type": "code",
   "execution_count": 24,
   "id": "cf64df11",
   "metadata": {},
   "outputs": [
    {
     "data": {
      "text/plain": [
       "Region_5     108\n",
       "Region_9      95\n",
       "Region_2      94\n",
       "Region_8      93\n",
       "Region_4      88\n",
       "Region_10     87\n",
       "Region_1      86\n",
       "Region_7      85\n",
       "Region_6      83\n",
       "Region_3      81\n",
       "Name: Region, dtype: int64"
      ]
     },
     "execution_count": 24,
     "metadata": {},
     "output_type": "execute_result"
    }
   ],
   "source": [
    "# I checked the ranking of the regions\n",
    "\n",
    "df['Region'].value_counts()"
   ]
  },
  {
   "cell_type": "code",
   "execution_count": 25,
   "id": "ff01ee46",
   "metadata": {
    "scrolled": true
   },
   "outputs": [],
   "source": [
    "# I used the same fill forward method here the same reason applies\n",
    "\n",
    "df['Region'].fillna(method='ffill', inplace=True)"
   ]
  },
  {
   "cell_type": "code",
   "execution_count": 26,
   "id": "c6c57180",
   "metadata": {},
   "outputs": [
    {
     "data": {
      "text/plain": [
       "Region_5     122\n",
       "Region_9     109\n",
       "Region_2     105\n",
       "Region_10    103\n",
       "Region_8     102\n",
       "Region_4      94\n",
       "Region_7      94\n",
       "Region_1      93\n",
       "Region_6      92\n",
       "Region_3      86\n",
       "Name: Region, dtype: int64"
      ]
     },
     "execution_count": 26,
     "metadata": {},
     "output_type": "execute_result"
    }
   ],
   "source": [
    "# the ranking did not change significantly especially for the top 3 which was my goal to avoid bias\n",
    "\n",
    "df['Region'].value_counts()"
   ]
  },
  {
   "cell_type": "code",
   "execution_count": 27,
   "id": "10808999",
   "metadata": {},
   "outputs": [
    {
     "data": {
      "text/plain": [
       "Product       False\n",
       "Region        False\n",
       "Price          True\n",
       "Units Sold     True\n",
       "Sale Date     False\n",
       "dtype: bool"
      ]
     },
     "execution_count": 27,
     "metadata": {},
     "output_type": "execute_result"
    }
   ],
   "source": [
    "#After doing this, the Region section had no empty columns\n",
    "\n",
    "df.isna().any()"
   ]
  },
  {
   "cell_type": "code",
   "execution_count": 28,
   "id": "2ae655a4",
   "metadata": {},
   "outputs": [
    {
     "data": {
      "text/html": [
       "<div>\n",
       "<style scoped>\n",
       "    .dataframe tbody tr th:only-of-type {\n",
       "        vertical-align: middle;\n",
       "    }\n",
       "\n",
       "    .dataframe tbody tr th {\n",
       "        vertical-align: top;\n",
       "    }\n",
       "\n",
       "    .dataframe thead th {\n",
       "        text-align: right;\n",
       "    }\n",
       "</style>\n",
       "<table border=\"1\" class=\"dataframe\">\n",
       "  <thead>\n",
       "    <tr style=\"text-align: right;\">\n",
       "      <th></th>\n",
       "      <th>Product</th>\n",
       "      <th>Region</th>\n",
       "      <th>Price</th>\n",
       "      <th>Units Sold</th>\n",
       "      <th>Sale Date</th>\n",
       "    </tr>\n",
       "  </thead>\n",
       "  <tbody>\n",
       "    <tr>\n",
       "      <th>count</th>\n",
       "      <td>1000</td>\n",
       "      <td>1000</td>\n",
       "      <td>900.000000</td>\n",
       "      <td>900.000000</td>\n",
       "      <td>1000</td>\n",
       "    </tr>\n",
       "    <tr>\n",
       "      <th>unique</th>\n",
       "      <td>50</td>\n",
       "      <td>10</td>\n",
       "      <td>NaN</td>\n",
       "      <td>NaN</td>\n",
       "      <td>1000</td>\n",
       "    </tr>\n",
       "    <tr>\n",
       "      <th>top</th>\n",
       "      <td>Product_24</td>\n",
       "      <td>Region_5</td>\n",
       "      <td>NaN</td>\n",
       "      <td>NaN</td>\n",
       "      <td>2023-10-10</td>\n",
       "    </tr>\n",
       "    <tr>\n",
       "      <th>freq</th>\n",
       "      <td>31</td>\n",
       "      <td>122</td>\n",
       "      <td>NaN</td>\n",
       "      <td>NaN</td>\n",
       "      <td>1</td>\n",
       "    </tr>\n",
       "    <tr>\n",
       "      <th>mean</th>\n",
       "      <td>NaN</td>\n",
       "      <td>NaN</td>\n",
       "      <td>106.216289</td>\n",
       "      <td>10.167778</td>\n",
       "      <td>NaN</td>\n",
       "    </tr>\n",
       "    <tr>\n",
       "      <th>std</th>\n",
       "      <td>NaN</td>\n",
       "      <td>NaN</td>\n",
       "      <td>149.340425</td>\n",
       "      <td>3.265021</td>\n",
       "      <td>NaN</td>\n",
       "    </tr>\n",
       "    <tr>\n",
       "      <th>min</th>\n",
       "      <td>NaN</td>\n",
       "      <td>NaN</td>\n",
       "      <td>0.190000</td>\n",
       "      <td>2.000000</td>\n",
       "      <td>NaN</td>\n",
       "    </tr>\n",
       "    <tr>\n",
       "      <th>25%</th>\n",
       "      <td>NaN</td>\n",
       "      <td>NaN</td>\n",
       "      <td>26.817500</td>\n",
       "      <td>8.000000</td>\n",
       "      <td>NaN</td>\n",
       "    </tr>\n",
       "    <tr>\n",
       "      <th>50%</th>\n",
       "      <td>NaN</td>\n",
       "      <td>NaN</td>\n",
       "      <td>66.315000</td>\n",
       "      <td>10.000000</td>\n",
       "      <td>NaN</td>\n",
       "    </tr>\n",
       "    <tr>\n",
       "      <th>75%</th>\n",
       "      <td>NaN</td>\n",
       "      <td>NaN</td>\n",
       "      <td>140.835000</td>\n",
       "      <td>12.000000</td>\n",
       "      <td>NaN</td>\n",
       "    </tr>\n",
       "    <tr>\n",
       "      <th>max</th>\n",
       "      <td>NaN</td>\n",
       "      <td>NaN</td>\n",
       "      <td>2636.900000</td>\n",
       "      <td>22.000000</td>\n",
       "      <td>NaN</td>\n",
       "    </tr>\n",
       "  </tbody>\n",
       "</table>\n",
       "</div>"
      ],
      "text/plain": [
       "           Product    Region        Price  Units Sold   Sale Date\n",
       "count         1000      1000   900.000000  900.000000        1000\n",
       "unique          50        10          NaN         NaN        1000\n",
       "top     Product_24  Region_5          NaN         NaN  2023-10-10\n",
       "freq            31       122          NaN         NaN           1\n",
       "mean           NaN       NaN   106.216289   10.167778         NaN\n",
       "std            NaN       NaN   149.340425    3.265021         NaN\n",
       "min            NaN       NaN     0.190000    2.000000         NaN\n",
       "25%            NaN       NaN    26.817500    8.000000         NaN\n",
       "50%            NaN       NaN    66.315000   10.000000         NaN\n",
       "75%            NaN       NaN   140.835000   12.000000         NaN\n",
       "max            NaN       NaN  2636.900000   22.000000         NaN"
      ]
     },
     "execution_count": 28,
     "metadata": {},
     "output_type": "execute_result"
    }
   ],
   "source": [
    "# I viewed my data again. Price and units sold must be cleaned\n",
    "\n",
    "df.describe(include=\"all\") "
   ]
  },
  {
   "cell_type": "code",
   "execution_count": 29,
   "id": "a8c2c14e",
   "metadata": {},
   "outputs": [],
   "source": [
    "# Since the mean!=the median, i replaced all missing values with the mean\n",
    "\n",
    "mean_price = df['Price'].mean()  \n",
    "df['Price'].fillna(mean_price, inplace=True)"
   ]
  },
  {
   "cell_type": "code",
   "execution_count": 30,
   "id": "4756f1fd",
   "metadata": {},
   "outputs": [],
   "source": [
    "# Since the mean!=the median, i replaced all missing values with the mean\n",
    "\n",
    "mean_units_sold = df['Units Sold'].mean()\n",
    "df['Units Sold'].fillna(mean_units_sold, inplace=True)"
   ]
  },
  {
   "cell_type": "code",
   "execution_count": 31,
   "id": "563be7cc",
   "metadata": {
    "scrolled": true
   },
   "outputs": [
    {
     "data": {
      "text/html": [
       "<div>\n",
       "<style scoped>\n",
       "    .dataframe tbody tr th:only-of-type {\n",
       "        vertical-align: middle;\n",
       "    }\n",
       "\n",
       "    .dataframe tbody tr th {\n",
       "        vertical-align: top;\n",
       "    }\n",
       "\n",
       "    .dataframe thead th {\n",
       "        text-align: right;\n",
       "    }\n",
       "</style>\n",
       "<table border=\"1\" class=\"dataframe\">\n",
       "  <thead>\n",
       "    <tr style=\"text-align: right;\">\n",
       "      <th></th>\n",
       "      <th>Product</th>\n",
       "      <th>Region</th>\n",
       "      <th>Price</th>\n",
       "      <th>Units Sold</th>\n",
       "      <th>Sale Date</th>\n",
       "    </tr>\n",
       "  </thead>\n",
       "  <tbody>\n",
       "    <tr>\n",
       "      <th>count</th>\n",
       "      <td>1000</td>\n",
       "      <td>1000</td>\n",
       "      <td>1000.000000</td>\n",
       "      <td>1000.000000</td>\n",
       "      <td>1000</td>\n",
       "    </tr>\n",
       "    <tr>\n",
       "      <th>unique</th>\n",
       "      <td>50</td>\n",
       "      <td>10</td>\n",
       "      <td>NaN</td>\n",
       "      <td>NaN</td>\n",
       "      <td>1000</td>\n",
       "    </tr>\n",
       "    <tr>\n",
       "      <th>top</th>\n",
       "      <td>Product_24</td>\n",
       "      <td>Region_5</td>\n",
       "      <td>NaN</td>\n",
       "      <td>NaN</td>\n",
       "      <td>2023-10-10</td>\n",
       "    </tr>\n",
       "    <tr>\n",
       "      <th>freq</th>\n",
       "      <td>31</td>\n",
       "      <td>122</td>\n",
       "      <td>NaN</td>\n",
       "      <td>NaN</td>\n",
       "      <td>1</td>\n",
       "    </tr>\n",
       "    <tr>\n",
       "      <th>mean</th>\n",
       "      <td>NaN</td>\n",
       "      <td>NaN</td>\n",
       "      <td>106.216289</td>\n",
       "      <td>10.167778</td>\n",
       "      <td>NaN</td>\n",
       "    </tr>\n",
       "    <tr>\n",
       "      <th>std</th>\n",
       "      <td>NaN</td>\n",
       "      <td>NaN</td>\n",
       "      <td>141.668888</td>\n",
       "      <td>3.097299</td>\n",
       "      <td>NaN</td>\n",
       "    </tr>\n",
       "    <tr>\n",
       "      <th>min</th>\n",
       "      <td>NaN</td>\n",
       "      <td>NaN</td>\n",
       "      <td>0.190000</td>\n",
       "      <td>2.000000</td>\n",
       "      <td>NaN</td>\n",
       "    </tr>\n",
       "    <tr>\n",
       "      <th>25%</th>\n",
       "      <td>NaN</td>\n",
       "      <td>NaN</td>\n",
       "      <td>30.470000</td>\n",
       "      <td>8.000000</td>\n",
       "      <td>NaN</td>\n",
       "    </tr>\n",
       "    <tr>\n",
       "      <th>50%</th>\n",
       "      <td>NaN</td>\n",
       "      <td>NaN</td>\n",
       "      <td>79.540000</td>\n",
       "      <td>10.000000</td>\n",
       "      <td>NaN</td>\n",
       "    </tr>\n",
       "    <tr>\n",
       "      <th>75%</th>\n",
       "      <td>NaN</td>\n",
       "      <td>NaN</td>\n",
       "      <td>128.287500</td>\n",
       "      <td>12.000000</td>\n",
       "      <td>NaN</td>\n",
       "    </tr>\n",
       "    <tr>\n",
       "      <th>max</th>\n",
       "      <td>NaN</td>\n",
       "      <td>NaN</td>\n",
       "      <td>2636.900000</td>\n",
       "      <td>22.000000</td>\n",
       "      <td>NaN</td>\n",
       "    </tr>\n",
       "  </tbody>\n",
       "</table>\n",
       "</div>"
      ],
      "text/plain": [
       "           Product    Region        Price   Units Sold   Sale Date\n",
       "count         1000      1000  1000.000000  1000.000000        1000\n",
       "unique          50        10          NaN          NaN        1000\n",
       "top     Product_24  Region_5          NaN          NaN  2023-10-10\n",
       "freq            31       122          NaN          NaN           1\n",
       "mean           NaN       NaN   106.216289    10.167778         NaN\n",
       "std            NaN       NaN   141.668888     3.097299         NaN\n",
       "min            NaN       NaN     0.190000     2.000000         NaN\n",
       "25%            NaN       NaN    30.470000     8.000000         NaN\n",
       "50%            NaN       NaN    79.540000    10.000000         NaN\n",
       "75%            NaN       NaN   128.287500    12.000000         NaN\n",
       "max            NaN       NaN  2636.900000    22.000000         NaN"
      ]
     },
     "execution_count": 31,
     "metadata": {},
     "output_type": "execute_result"
    }
   ],
   "source": [
    "# to view all the changes made in the df.Finally my data is clean\n",
    "\n",
    "df.describe(include=\"all\") "
   ]
  },
  {
   "cell_type": "code",
   "execution_count": 32,
   "id": "c1bd0f62",
   "metadata": {},
   "outputs": [
    {
     "data": {
      "text/plain": [
       "Product       False\n",
       "Region        False\n",
       "Price         False\n",
       "Units Sold    False\n",
       "Sale Date     False\n",
       "dtype: bool"
      ]
     },
     "execution_count": 32,
     "metadata": {},
     "output_type": "execute_result"
    }
   ],
   "source": [
    "# This further shows that my data is clean\n",
    "\n",
    "df.isna().any()"
   ]
  },
  {
   "cell_type": "markdown",
   "id": "cca723ff",
   "metadata": {},
   "source": [
    "### Removing outliers\n",
    "\n",
    "I decided to remove the outliers since I had just 3 of them. I needed my data to be as accurate as possible and having the ouliers may not reflect the results I require."
   ]
  },
  {
   "cell_type": "code",
   "execution_count": 33,
   "id": "49388b9a",
   "metadata": {},
   "outputs": [
    {
     "data": {
      "image/png": "[encoded data removed]",
      "text/plain": [
       "<Figure size 720x432 with 1 Axes>"
      ]
     },
     "metadata": {
      "needs_background": "light"
     },
     "output_type": "display_data"
    }
   ],
   "source": [
    "numerical_columns = ['Price', 'Units Sold']\n",
    "\n",
    "# Create box plots for Price and Units Sold to visualize the outliers\n",
    "plt.figure(figsize=(10, 6))\n",
    "sns.boxplot(data=df[numerical_columns])\n",
    "plt.xticks(rotation=45)\n",
    "plt.show()\n",
    "\n",
    "# Outliers where present in the price"
   ]
  },
  {
   "cell_type": "code",
   "execution_count": 34,
   "id": "9cc51297",
   "metadata": {},
   "outputs": [
    {
     "data": {
      "text/html": [
       "<div>\n",
       "<style scoped>\n",
       "    .dataframe tbody tr th:only-of-type {\n",
       "        vertical-align: middle;\n",
       "    }\n",
       "\n",
       "    .dataframe tbody tr th {\n",
       "        vertical-align: top;\n",
       "    }\n",
       "\n",
       "    .dataframe thead th {\n",
       "        text-align: right;\n",
       "    }\n",
       "</style>\n",
       "<table border=\"1\" class=\"dataframe\">\n",
       "  <thead>\n",
       "    <tr style=\"text-align: right;\">\n",
       "      <th></th>\n",
       "      <th>Product</th>\n",
       "      <th>Region</th>\n",
       "      <th>Price</th>\n",
       "      <th>Units Sold</th>\n",
       "      <th>Sale Date</th>\n",
       "    </tr>\n",
       "  </thead>\n",
       "  <tbody>\n",
       "    <tr>\n",
       "      <th>269</th>\n",
       "      <td>Product_49</td>\n",
       "      <td>Region_8</td>\n",
       "      <td>1296.0</td>\n",
       "      <td>14.0</td>\n",
       "      <td>2022-09-27</td>\n",
       "    </tr>\n",
       "    <tr>\n",
       "      <th>407</th>\n",
       "      <td>Product_27</td>\n",
       "      <td>Region_7</td>\n",
       "      <td>1793.9</td>\n",
       "      <td>9.0</td>\n",
       "      <td>2023-02-12</td>\n",
       "    </tr>\n",
       "    <tr>\n",
       "      <th>421</th>\n",
       "      <td>Product_34</td>\n",
       "      <td>Region_2</td>\n",
       "      <td>2636.9</td>\n",
       "      <td>14.0</td>\n",
       "      <td>2023-02-26</td>\n",
       "    </tr>\n",
       "  </tbody>\n",
       "</table>\n",
       "</div>"
      ],
      "text/plain": [
       "        Product    Region   Price  Units Sold   Sale Date\n",
       "269  Product_49  Region_8  1296.0        14.0  2022-09-27\n",
       "407  Product_27  Region_7  1793.9         9.0  2023-02-12\n",
       "421  Product_34  Region_2  2636.9        14.0  2023-02-26"
      ]
     },
     "execution_count": 34,
     "metadata": {},
     "output_type": "execute_result"
    }
   ],
   "source": [
    "# Just 3 outliers were recorded with prices above 1000.\n",
    "\n",
    "df[df['Price']>1000] # viewing outliers which are prices >1000"
   ]
  },
  {
   "cell_type": "code",
   "execution_count": 35,
   "id": "33a6e834",
   "metadata": {},
   "outputs": [],
   "source": [
    "# Create a new DataFrame without outliers\n",
    "\n",
    "df_filtered = df[df['Price'] <= 1000]\n",
    "\n",
    "# Rename the new DataFrame \n",
    "\n",
    "new_df_name = 'df_filtered'  # Choose a new name for the DataFrame\n",
    "df_filtered.rename(columns={'Price': 'Filtered_Price'}, inplace=True)  # Rename the 'Price' column\n",
    "\n",
    "# Reset the index of the new DataFrame\n",
    "\n",
    "df_filtered.reset_index(drop=True, inplace=True)"
   ]
  },
  {
   "cell_type": "code",
   "execution_count": 36,
   "id": "1d7bcfdc",
   "metadata": {},
   "outputs": [
    {
     "data": {
      "image/png": "[encoded data removed]",
      "text/plain": [
       "<Figure size 720x432 with 1 Axes>"
      ]
     },
     "metadata": {
      "needs_background": "light"
     },
     "output_type": "display_data"
    }
   ],
   "source": [
    "# View the filtered data again without the ouliers.\n",
    "\n",
    "plt.figure(figsize=(10, 6))\n",
    "sns.boxplot(data=df_filtered[\"Filtered_Price\"])\n",
    "plt.xticks(rotation=45)\n",
    "plt.show()"
   ]
  },
  {
   "cell_type": "code",
   "execution_count": 37,
   "id": "611ae22d",
   "metadata": {},
   "outputs": [],
   "source": [
    "# reset index permanently\n",
    "\n",
    "df_filtered.reset_index(inplace=True)"
   ]
  },
  {
   "cell_type": "code",
   "execution_count": 38,
   "id": "65bed3db",
   "metadata": {},
   "outputs": [
    {
     "data": {
      "text/html": [
       "<div>\n",
       "<style scoped>\n",
       "    .dataframe tbody tr th:only-of-type {\n",
       "        vertical-align: middle;\n",
       "    }\n",
       "\n",
       "    .dataframe tbody tr th {\n",
       "        vertical-align: top;\n",
       "    }\n",
       "\n",
       "    .dataframe thead th {\n",
       "        text-align: right;\n",
       "    }\n",
       "</style>\n",
       "<table border=\"1\" class=\"dataframe\">\n",
       "  <thead>\n",
       "    <tr style=\"text-align: right;\">\n",
       "      <th></th>\n",
       "      <th>index</th>\n",
       "      <th>Product</th>\n",
       "      <th>Region</th>\n",
       "      <th>Filtered_Price</th>\n",
       "      <th>Units Sold</th>\n",
       "      <th>Sale Date</th>\n",
       "    </tr>\n",
       "  </thead>\n",
       "  <tbody>\n",
       "    <tr>\n",
       "      <th>count</th>\n",
       "      <td>997.000000</td>\n",
       "      <td>997</td>\n",
       "      <td>997</td>\n",
       "      <td>997.000000</td>\n",
       "      <td>997.000000</td>\n",
       "      <td>997</td>\n",
       "    </tr>\n",
       "    <tr>\n",
       "      <th>unique</th>\n",
       "      <td>NaN</td>\n",
       "      <td>50</td>\n",
       "      <td>10</td>\n",
       "      <td>NaN</td>\n",
       "      <td>NaN</td>\n",
       "      <td>997</td>\n",
       "    </tr>\n",
       "    <tr>\n",
       "      <th>top</th>\n",
       "      <td>NaN</td>\n",
       "      <td>Product_24</td>\n",
       "      <td>Region_5</td>\n",
       "      <td>NaN</td>\n",
       "      <td>NaN</td>\n",
       "      <td>2023-10-10</td>\n",
       "    </tr>\n",
       "    <tr>\n",
       "      <th>freq</th>\n",
       "      <td>NaN</td>\n",
       "      <td>31</td>\n",
       "      <td>122</td>\n",
       "      <td>NaN</td>\n",
       "      <td>NaN</td>\n",
       "      <td>1</td>\n",
       "    </tr>\n",
       "    <tr>\n",
       "      <th>mean</th>\n",
       "      <td>498.000000</td>\n",
       "      <td>NaN</td>\n",
       "      <td>NaN</td>\n",
       "      <td>100.791864</td>\n",
       "      <td>10.161262</td>\n",
       "      <td>NaN</td>\n",
       "    </tr>\n",
       "    <tr>\n",
       "      <th>std</th>\n",
       "      <td>287.953411</td>\n",
       "      <td>NaN</td>\n",
       "      <td>NaN</td>\n",
       "      <td>96.902044</td>\n",
       "      <td>3.096975</td>\n",
       "      <td>NaN</td>\n",
       "    </tr>\n",
       "    <tr>\n",
       "      <th>min</th>\n",
       "      <td>0.000000</td>\n",
       "      <td>NaN</td>\n",
       "      <td>NaN</td>\n",
       "      <td>0.190000</td>\n",
       "      <td>2.000000</td>\n",
       "      <td>NaN</td>\n",
       "    </tr>\n",
       "    <tr>\n",
       "      <th>25%</th>\n",
       "      <td>249.000000</td>\n",
       "      <td>NaN</td>\n",
       "      <td>NaN</td>\n",
       "      <td>30.350000</td>\n",
       "      <td>8.000000</td>\n",
       "      <td>NaN</td>\n",
       "    </tr>\n",
       "    <tr>\n",
       "      <th>50%</th>\n",
       "      <td>498.000000</td>\n",
       "      <td>NaN</td>\n",
       "      <td>NaN</td>\n",
       "      <td>78.140000</td>\n",
       "      <td>10.000000</td>\n",
       "      <td>NaN</td>\n",
       "    </tr>\n",
       "    <tr>\n",
       "      <th>75%</th>\n",
       "      <td>747.000000</td>\n",
       "      <td>NaN</td>\n",
       "      <td>NaN</td>\n",
       "      <td>127.890000</td>\n",
       "      <td>12.000000</td>\n",
       "      <td>NaN</td>\n",
       "    </tr>\n",
       "    <tr>\n",
       "      <th>max</th>\n",
       "      <td>996.000000</td>\n",
       "      <td>NaN</td>\n",
       "      <td>NaN</td>\n",
       "      <td>650.500000</td>\n",
       "      <td>22.000000</td>\n",
       "      <td>NaN</td>\n",
       "    </tr>\n",
       "  </tbody>\n",
       "</table>\n",
       "</div>"
      ],
      "text/plain": [
       "             index     Product    Region  Filtered_Price  Units Sold  \\\n",
       "count   997.000000         997       997      997.000000  997.000000   \n",
       "unique         NaN          50        10             NaN         NaN   \n",
       "top            NaN  Product_24  Region_5             NaN         NaN   \n",
       "freq           NaN          31       122             NaN         NaN   \n",
       "mean    498.000000         NaN       NaN      100.791864   10.161262   \n",
       "std     287.953411         NaN       NaN       96.902044    3.096975   \n",
       "min       0.000000         NaN       NaN        0.190000    2.000000   \n",
       "25%     249.000000         NaN       NaN       30.350000    8.000000   \n",
       "50%     498.000000         NaN       NaN       78.140000   10.000000   \n",
       "75%     747.000000         NaN       NaN      127.890000   12.000000   \n",
       "max     996.000000         NaN       NaN      650.500000   22.000000   \n",
       "\n",
       "         Sale Date  \n",
       "count          997  \n",
       "unique         997  \n",
       "top     2023-10-10  \n",
       "freq             1  \n",
       "mean           NaN  \n",
       "std            NaN  \n",
       "min            NaN  \n",
       "25%            NaN  \n",
       "50%            NaN  \n",
       "75%            NaN  \n",
       "max            NaN  "
      ]
     },
     "execution_count": 38,
     "metadata": {},
     "output_type": "execute_result"
    }
   ],
   "source": [
    "# to view all the changes made in the df.\n",
    "# My data reduced from 1050 to 997 which should be ok considering the steps I took in cleaning.\n",
    "\n",
    "df_filtered.describe(include=\"all\") "
   ]
  },
  {
   "cell_type": "markdown",
   "id": "882c8ffe",
   "metadata": {},
   "source": [
    "### 3. Data Exploration\n",
    "\n",
    "Generating summary statistics, visualizing distributions and exploring relationships between variables. I analyzed the sales performance of various products and regions based on the cleaned dataset. I identified patterns and trends that may impact sales. \n",
    "\n",
    "This section answers:\n",
    "What conclusions can you draw about sales performance of various products and regions?"
   ]
  },
  {
   "cell_type": "code",
   "execution_count": 39,
   "id": "91368842",
   "metadata": {},
   "outputs": [
    {
     "data": {
      "image/png": "[encoded data removed]",
      "text/plain": [
       "<Figure size 720x432 with 1 Axes>"
      ]
     },
     "metadata": {
      "needs_background": "light"
     },
     "output_type": "display_data"
    }
   ],
   "source": [
    "# Create a bar plot for the 'Product' variable\n",
    "#This puts into perspective the top perfoming products.\n",
    "\n",
    "plt.figure(figsize=(10, 6))\n",
    "sns.countplot(x='Product', data=df_filtered, order=df_filtered[\"Product\"].value_counts().index)\n",
    "plt.xlabel('Product')\n",
    "plt.ylabel('Count')\n",
    "plt.title('Distribution of Products')\n",
    "plt.xticks(rotation=90)\n",
    "plt.show()\n",
    "\n"
   ]
  },
  {
   "cell_type": "code",
   "execution_count": 40,
   "id": "f7a04099",
   "metadata": {},
   "outputs": [
    {
     "data": {
      "image/png": "[encoded data removed]",
      "text/plain": [
       "<Figure size 720x432 with 1 Axes>"
      ]
     },
     "metadata": {
      "needs_background": "light"
     },
     "output_type": "display_data"
    }
   ],
   "source": [
    "# Create a bar plot for the 'Region' variable\n",
    "# This puts into perspective the top performing region\n",
    "\n",
    "\n",
    "plt.figure(figsize=(10, 6))\n",
    "sns.countplot(x='Region', data=df_filtered, order=df_filtered[\"Region\"].value_counts().index)\n",
    "plt.xlabel('Region')\n",
    "plt.ylabel('Count')\n",
    "plt.title('Distribution of Regions')\n",
    "plt.xticks(rotation=90)\n",
    "plt.show()"
   ]
  },
  {
   "cell_type": "code",
   "execution_count": 45,
   "id": "80d7a736",
   "metadata": {
    "scrolled": true
   },
   "outputs": [
    {
     "data": {
      "image/png": "[encoded data removed]",
      "text/plain": [
       "<Figure size 720x360 with 1 Axes>"
      ]
     },
     "metadata": {
      "needs_background": "light"
     },
     "output_type": "display_data"
    }
   ],
   "source": [
    "#this plot shows that the higher the price of the unit, the less units were sold and vice versa\n",
    "\n",
    "# Create the scatter plot\n",
    "plt.figure(figsize=(10, 5))  # Optional: Adjust the figure size\n",
    "sns.scatterplot(x='Filtered_Price', y='Units Sold', data=df_filtered)\n",
    "\n",
    "# Set labels and title\n",
    "plt.xlabel('Price')\n",
    "plt.ylabel('Units Sold')\n",
    "plt.title('Relationship between Price and Units Sold')\n",
    "\n",
    "# Show the plot\n",
    "plt.show()"
   ]
  },
  {
   "cell_type": "code",
   "execution_count": 42,
   "id": "1b5d338b",
   "metadata": {},
   "outputs": [
    {
     "data": {
      "image/png": "[encoded data removed]",
      "text/plain": [
       "<Figure size 720x432 with 1 Axes>"
      ]
     },
     "metadata": {
      "needs_background": "light"
     },
     "output_type": "display_data"
    }
   ],
   "source": [
    "# This shows that for product_50 some units were sold at expensive prices. \n",
    "#This could be explored to meet that target market.\n",
    "\n",
    "# Create the scatter plot\n",
    "plt.figure(figsize=(10, 6))  # Optional: Adjust the figure size\n",
    "sns.scatterplot(x='Product', y='Filtered_Price', data=df_filtered)\n",
    "\n",
    "# Set labels and title\n",
    "plt.xlabel('Product')\n",
    "plt.ylabel('Filtered_Price')\n",
    "plt.title('Relationship between Price and Product')\n",
    "plt.xticks(rotation=90)\n",
    "\n",
    "# Show the plot\n",
    "plt.show()"
   ]
  },
  {
   "cell_type": "code",
   "execution_count": 46,
   "id": "ac9475a9",
   "metadata": {},
   "outputs": [
    {
     "data": {
      "image/png": "[encoded data removed]",
      "text/plain": [
       "<Figure size 720x432 with 1 Axes>"
      ]
     },
     "metadata": {
      "needs_background": "light"
     },
     "output_type": "display_data"
    }
   ],
   "source": [
    "# This shows a regions affinity to price. \n",
    "# Which region buys for less and which regions buy for higher prices\n",
    "#they were all normally separated.\n",
    "\n",
    "# Create the scatter plot\n",
    "plt.figure(figsize=(10, 6))  # Optional: Adjust the figure size\n",
    "sns.scatterplot(x='Filtered_Price', y='Region', data=df_filtered)\n",
    "\n",
    "# Set labels and title\n",
    "plt.xlabel('Price')\n",
    "plt.ylabel('Region')\n",
    "plt.title('Relationship between Price and Region')\n",
    "\n",
    "# Show the plot\n",
    "plt.show()"
   ]
  },
  {
   "cell_type": "code",
   "execution_count": 47,
   "id": "bbb99d07",
   "metadata": {},
   "outputs": [
    {
     "name": "stdout",
     "output_type": "stream",
     "text": [
      "       Product     Region  Units Sold\n",
      "0    Product_1   Region_1   20.000000\n",
      "1    Product_1  Region_10   11.000000\n",
      "2    Product_1   Region_2   13.000000\n",
      "3    Product_1   Region_3   36.167778\n",
      "4    Product_1   Region_4   22.000000\n",
      "..         ...        ...         ...\n",
      "430  Product_9   Region_5   45.167778\n",
      "431  Product_9   Region_6   20.167778\n",
      "432  Product_9   Region_7   14.000000\n",
      "433  Product_9   Region_8   32.000000\n",
      "434  Product_9   Region_9   20.000000\n",
      "\n",
      "[435 rows x 3 columns]\n"
     ]
    }
   ],
   "source": [
    "# Group the data by Product and Region, and calculate the sum of Units Sold for each combination\n",
    "\n",
    "df2 = df_filtered.groupby(['Product', 'Region'])['Units Sold'].sum().reset_index()\n",
    "\n",
    "# Show all data points in the DataFrame\n",
    "print(df2)"
   ]
  },
  {
   "cell_type": "code",
   "execution_count": 48,
   "id": "94e2d489",
   "metadata": {},
   "outputs": [
    {
     "name": "stdout",
     "output_type": "stream",
     "text": [
      "        Product     Region  Units Sold\n",
      "422   Product_8   Region_5   74.167778\n",
      "373  Product_49   Region_2   74.000000\n",
      "178  Product_28  Region_10   66.167778\n",
      "407   Product_6   Region_8   64.167778\n",
      "279  Product_38   Region_9   60.167778\n",
      "..          ...        ...         ...\n",
      "324  Product_43   Region_4    5.000000\n",
      "207  Product_30   Region_4    4.000000\n",
      "171  Product_27   Region_3    4.000000\n",
      "188  Product_29   Region_2    3.000000\n",
      "356  Product_47   Region_1    2.000000\n",
      "\n",
      "[435 rows x 3 columns]\n"
     ]
    }
   ],
   "source": [
    "#This shows me the top 5 perfoming products and the bottom 5 performing products\n",
    "# according to regions.\n",
    "# This is key since the sales strategy will be centered around these.\n",
    "\n",
    "df2_sorted = df2.sort_values('Units Sold', ascending=False)\n",
    "\n",
    "# Show all data points in descending order\n",
    "print(df2_sorted)"
   ]
  },
  {
   "cell_type": "code",
   "execution_count": 49,
   "id": "8926e6b5",
   "metadata": {},
   "outputs": [
    {
     "name": "stdout",
     "output_type": "stream",
     "text": [
      "The most popular product is Product_24 with a count of 31.\n",
      "The least popular product is Product_41 with a count of 13.\n"
     ]
    }
   ],
   "source": [
    "# This is just my final attempt to show the most popular prodyuct and the least popular product.\n",
    "\n",
    "# Calculate the count of each product\n",
    "product_counts = df['Product'].value_counts()\n",
    "\n",
    "# Find the most popular product(s) (highest count)\n",
    "most_popular_product = product_counts.idxmax()\n",
    "most_popular_count = product_counts.max()\n",
    "\n",
    "# Find the least popular product(s) (lowest count)\n",
    "least_popular_product = product_counts.idxmin()\n",
    "least_popular_count = product_counts.min()\n",
    "\n",
    "# Print the most popular and least popular products\n",
    "print(f\"The most popular product is {most_popular_product} with a count of {most_popular_count}.\")\n",
    "print(f\"The least popular product is {least_popular_product} with a count of {least_popular_count}.\")\n"
   ]
  },
  {
   "cell_type": "markdown",
   "id": "c3b33b8e",
   "metadata": {},
   "source": [
    "### 4. Conclusions\n",
    "Summary of my observations and conclusions regarding sales performance across different products and regions. Highlighting key insights, such as the best-selling products, top-performing regions, and any notable trends or patterns.\n",
    "\n",
    "This section answers:\n",
    "What recommendations do you have for the business?"
   ]
  },
  {
   "cell_type": "markdown",
   "id": "912c6034",
   "metadata": {},
   "source": [
    "## Insights\n",
    "\n",
    "The most popular product is Product_24 with a count of 32.\n",
    "The least popular product is Product_35 with a count of 13.\n",
    "Price was a determining factor in sales. Higher prices had lower sales and vice versa. \n",
    "\n",
    "\n",
    "## Recommendations.\n",
    "The most popular product is product 24. The company should increase production and continuing marketing it well since it has shown to be doing extremely well.\n",
    "\n",
    "Additionally, for the least performing products 13, research should be conducted to understand what is influencing its low sales.\n",
    "\n",
    "At the regionally level, some products are seen to be making more sales than the others. This could be influenced by several characteristics including customer prefernce, demographic, age etc. Eg:In region 2, product 49 is the best perfoming product(74) and product 29 is the least performing product(3). The strategy that can be adopted around this is to understand why certain products perform lower in each region. These products can be recreated to suite the region or allocated to other regions where they perform better.\n",
    "\n",
    "In conclusion, understand the dynamics of product performance in each region and adopt the sales strategy below.\n",
    "\n",
    "\n",
    "### Sales Strategy for Next Year:\n",
    "\n",
    "##### Focus on Product 24:\n",
    "\n",
    "Increase production of Product 24 to meet the high demand.\n",
    "Continue marketing efforts for Product 24 to maintain its success.\n",
    "Identify potential growth opportunities for Product 24 in new markets or customer segments.\n",
    "\n",
    "##### Investigate Product 13:\n",
    "\n",
    "Conduct research to understand the factors influencing the low sales of Product 13.\n",
    "Identify any product-related issues, market trends, or customer preferences that may be impacting its performance.\n",
    "Make necessary improvements or adjustments to enhance the appeal and sales of Product 13.\n",
    "\n",
    "##### Region-based Product Performance:\n",
    "\n",
    "Analyze the performance of products in each region to identify patterns and preferences.\n",
    "Determine why certain products perform better in specific regions and understand the underlying reasons.\n",
    "Consider reallocating underperforming products to regions where they have shown better sales performance.\n",
    "Customize or adapt products to suit the preferences and needs of specific regions or demographics.\n",
    "\n",
    "##### Monitor and Enhance Best Performing Products:\n",
    "\n",
    "Continuously monitor and analyze the performance of the best-performing products.\n",
    "Identify areas for improvement and implement strategies to maintain their success.\n",
    "Stay updated on market trends and customer feedback to make any necessary adjustments or enhancements.\n",
    "\n",
    "##### Price Evaluation:\n",
    "\n",
    "Evaluate the pricing strategy, particularly for expensive products.\n",
    "Ensure that the prices of high-end products are reasonable and aligned with customer expectations and market conditions.\n",
    "Balance profitability with competitive pricing to maximize sales and maintain a healthy profit margin.\n",
    "\n",
    "\n",
    "By implementing these strategies, the company can leverage the success of the most popular product, address the issues with underperforming products, optimize product allocation across regions, and continually monitor and improve the overall sales performance."
   ]
  },
  {
   "cell_type": "markdown",
   "id": "0014ff65",
   "metadata": {},
   "source": [
    "# The End"
   ]
  }
 ],
 "metadata": {
  "kernelspec": {
   "display_name": "Python 3 (ipykernel)",
   "language": "python",
   "name": "python3"
  },
  "language_info": {
   "codemirror_mode": {
    "name": "ipython",
    "version": 3
   },
   "file_extension": ".py",
   "mimetype": "text/x-python",
   "name": "python",
   "nbconvert_exporter": "python",
   "pygments_lexer": "ipython3",
   "version": "3.9.12"
  }
 },
 "nbformat": 4,
 "nbformat_minor": 5
}
