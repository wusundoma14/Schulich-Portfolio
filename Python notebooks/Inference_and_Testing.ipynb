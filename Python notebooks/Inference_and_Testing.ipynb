{
 "cells": [
  {
   "cell_type": "markdown",
   "id": "40d89292",
   "metadata": {},
   "source": [
    "# Inference_and_Testing\n",
    "\n",
    "#### Using Tips data"
   ]
  },
  {
   "cell_type": "code",
   "execution_count": 1,
   "id": "b4d0ea78",
   "metadata": {},
   "outputs": [],
   "source": [
    "import pandas as pd\n",
    "import matplotlib.pyplot as plt\n",
    "import seaborn as sns\n",
    "from scipy import stats\n",
    "from scipy.stats import chi2_contingency\n",
    "import statsmodels.stats.multicomp as mc"
   ]
  },
  {
   "cell_type": "code",
   "execution_count": 2,
   "id": "2b363334",
   "metadata": {},
   "outputs": [],
   "source": [
    "df = sns.load_dataset('tips')"
   ]
  },
  {
   "cell_type": "code",
   "execution_count": 3,
   "id": "d8bfa198",
   "metadata": {
    "scrolled": true
   },
   "outputs": [
    {
     "data": {
      "text/html": [
       "<div>\n",
       "<style scoped>\n",
       "    .dataframe tbody tr th:only-of-type {\n",
       "        vertical-align: middle;\n",
       "    }\n",
       "\n",
       "    .dataframe tbody tr th {\n",
       "        vertical-align: top;\n",
       "    }\n",
       "\n",
       "    .dataframe thead th {\n",
       "        text-align: right;\n",
       "    }\n",
       "</style>\n",
       "<table border=\"1\" class=\"dataframe\">\n",
       "  <thead>\n",
       "    <tr style=\"text-align: right;\">\n",
       "      <th></th>\n",
       "      <th>total_bill</th>\n",
       "      <th>tip</th>\n",
       "      <th>sex</th>\n",
       "      <th>smoker</th>\n",
       "      <th>day</th>\n",
       "      <th>time</th>\n",
       "      <th>size</th>\n",
       "    </tr>\n",
       "  </thead>\n",
       "  <tbody>\n",
       "    <tr>\n",
       "      <th>0</th>\n",
       "      <td>16.99</td>\n",
       "      <td>1.01</td>\n",
       "      <td>Female</td>\n",
       "      <td>No</td>\n",
       "      <td>Sun</td>\n",
       "      <td>Dinner</td>\n",
       "      <td>2</td>\n",
       "    </tr>\n",
       "    <tr>\n",
       "      <th>1</th>\n",
       "      <td>10.34</td>\n",
       "      <td>1.66</td>\n",
       "      <td>Male</td>\n",
       "      <td>No</td>\n",
       "      <td>Sun</td>\n",
       "      <td>Dinner</td>\n",
       "      <td>3</td>\n",
       "    </tr>\n",
       "    <tr>\n",
       "      <th>2</th>\n",
       "      <td>21.01</td>\n",
       "      <td>3.50</td>\n",
       "      <td>Male</td>\n",
       "      <td>No</td>\n",
       "      <td>Sun</td>\n",
       "      <td>Dinner</td>\n",
       "      <td>3</td>\n",
       "    </tr>\n",
       "    <tr>\n",
       "      <th>3</th>\n",
       "      <td>23.68</td>\n",
       "      <td>3.31</td>\n",
       "      <td>Male</td>\n",
       "      <td>No</td>\n",
       "      <td>Sun</td>\n",
       "      <td>Dinner</td>\n",
       "      <td>2</td>\n",
       "    </tr>\n",
       "    <tr>\n",
       "      <th>4</th>\n",
       "      <td>24.59</td>\n",
       "      <td>3.61</td>\n",
       "      <td>Female</td>\n",
       "      <td>No</td>\n",
       "      <td>Sun</td>\n",
       "      <td>Dinner</td>\n",
       "      <td>4</td>\n",
       "    </tr>\n",
       "  </tbody>\n",
       "</table>\n",
       "</div>"
      ],
      "text/plain": [
       "   total_bill   tip     sex smoker  day    time  size\n",
       "0       16.99  1.01  Female     No  Sun  Dinner     2\n",
       "1       10.34  1.66    Male     No  Sun  Dinner     3\n",
       "2       21.01  3.50    Male     No  Sun  Dinner     3\n",
       "3       23.68  3.31    Male     No  Sun  Dinner     2\n",
       "4       24.59  3.61  Female     No  Sun  Dinner     4"
      ]
     },
     "execution_count": 3,
     "metadata": {},
     "output_type": "execute_result"
    }
   ],
   "source": [
    "df.head()"
   ]
  },
  {
   "cell_type": "code",
   "execution_count": 4,
   "id": "c3744732",
   "metadata": {},
   "outputs": [
    {
     "data": {
      "text/html": [
       "<div>\n",
       "<style scoped>\n",
       "    .dataframe tbody tr th:only-of-type {\n",
       "        vertical-align: middle;\n",
       "    }\n",
       "\n",
       "    .dataframe tbody tr th {\n",
       "        vertical-align: top;\n",
       "    }\n",
       "\n",
       "    .dataframe thead th {\n",
       "        text-align: right;\n",
       "    }\n",
       "</style>\n",
       "<table border=\"1\" class=\"dataframe\">\n",
       "  <thead>\n",
       "    <tr style=\"text-align: right;\">\n",
       "      <th></th>\n",
       "      <th>total_bill</th>\n",
       "      <th>tip</th>\n",
       "      <th>sex</th>\n",
       "      <th>smoker</th>\n",
       "      <th>day</th>\n",
       "      <th>time</th>\n",
       "      <th>size</th>\n",
       "    </tr>\n",
       "  </thead>\n",
       "  <tbody>\n",
       "    <tr>\n",
       "      <th>count</th>\n",
       "      <td>244.000000</td>\n",
       "      <td>244.000000</td>\n",
       "      <td>244</td>\n",
       "      <td>244</td>\n",
       "      <td>244</td>\n",
       "      <td>244</td>\n",
       "      <td>244.000000</td>\n",
       "    </tr>\n",
       "    <tr>\n",
       "      <th>unique</th>\n",
       "      <td>NaN</td>\n",
       "      <td>NaN</td>\n",
       "      <td>2</td>\n",
       "      <td>2</td>\n",
       "      <td>4</td>\n",
       "      <td>2</td>\n",
       "      <td>NaN</td>\n",
       "    </tr>\n",
       "    <tr>\n",
       "      <th>top</th>\n",
       "      <td>NaN</td>\n",
       "      <td>NaN</td>\n",
       "      <td>Male</td>\n",
       "      <td>No</td>\n",
       "      <td>Sat</td>\n",
       "      <td>Dinner</td>\n",
       "      <td>NaN</td>\n",
       "    </tr>\n",
       "    <tr>\n",
       "      <th>freq</th>\n",
       "      <td>NaN</td>\n",
       "      <td>NaN</td>\n",
       "      <td>157</td>\n",
       "      <td>151</td>\n",
       "      <td>87</td>\n",
       "      <td>176</td>\n",
       "      <td>NaN</td>\n",
       "    </tr>\n",
       "    <tr>\n",
       "      <th>mean</th>\n",
       "      <td>19.785943</td>\n",
       "      <td>2.998279</td>\n",
       "      <td>NaN</td>\n",
       "      <td>NaN</td>\n",
       "      <td>NaN</td>\n",
       "      <td>NaN</td>\n",
       "      <td>2.569672</td>\n",
       "    </tr>\n",
       "    <tr>\n",
       "      <th>std</th>\n",
       "      <td>8.902412</td>\n",
       "      <td>1.383638</td>\n",
       "      <td>NaN</td>\n",
       "      <td>NaN</td>\n",
       "      <td>NaN</td>\n",
       "      <td>NaN</td>\n",
       "      <td>0.951100</td>\n",
       "    </tr>\n",
       "    <tr>\n",
       "      <th>min</th>\n",
       "      <td>3.070000</td>\n",
       "      <td>1.000000</td>\n",
       "      <td>NaN</td>\n",
       "      <td>NaN</td>\n",
       "      <td>NaN</td>\n",
       "      <td>NaN</td>\n",
       "      <td>1.000000</td>\n",
       "    </tr>\n",
       "    <tr>\n",
       "      <th>25%</th>\n",
       "      <td>13.347500</td>\n",
       "      <td>2.000000</td>\n",
       "      <td>NaN</td>\n",
       "      <td>NaN</td>\n",
       "      <td>NaN</td>\n",
       "      <td>NaN</td>\n",
       "      <td>2.000000</td>\n",
       "    </tr>\n",
       "    <tr>\n",
       "      <th>50%</th>\n",
       "      <td>17.795000</td>\n",
       "      <td>2.900000</td>\n",
       "      <td>NaN</td>\n",
       "      <td>NaN</td>\n",
       "      <td>NaN</td>\n",
       "      <td>NaN</td>\n",
       "      <td>2.000000</td>\n",
       "    </tr>\n",
       "    <tr>\n",
       "      <th>75%</th>\n",
       "      <td>24.127500</td>\n",
       "      <td>3.562500</td>\n",
       "      <td>NaN</td>\n",
       "      <td>NaN</td>\n",
       "      <td>NaN</td>\n",
       "      <td>NaN</td>\n",
       "      <td>3.000000</td>\n",
       "    </tr>\n",
       "    <tr>\n",
       "      <th>max</th>\n",
       "      <td>50.810000</td>\n",
       "      <td>10.000000</td>\n",
       "      <td>NaN</td>\n",
       "      <td>NaN</td>\n",
       "      <td>NaN</td>\n",
       "      <td>NaN</td>\n",
       "      <td>6.000000</td>\n",
       "    </tr>\n",
       "  </tbody>\n",
       "</table>\n",
       "</div>"
      ],
      "text/plain": [
       "        total_bill         tip   sex smoker  day    time        size\n",
       "count   244.000000  244.000000   244    244  244     244  244.000000\n",
       "unique         NaN         NaN     2      2    4       2         NaN\n",
       "top            NaN         NaN  Male     No  Sat  Dinner         NaN\n",
       "freq           NaN         NaN   157    151   87     176         NaN\n",
       "mean     19.785943    2.998279   NaN    NaN  NaN     NaN    2.569672\n",
       "std       8.902412    1.383638   NaN    NaN  NaN     NaN    0.951100\n",
       "min       3.070000    1.000000   NaN    NaN  NaN     NaN    1.000000\n",
       "25%      13.347500    2.000000   NaN    NaN  NaN     NaN    2.000000\n",
       "50%      17.795000    2.900000   NaN    NaN  NaN     NaN    2.000000\n",
       "75%      24.127500    3.562500   NaN    NaN  NaN     NaN    3.000000\n",
       "max      50.810000   10.000000   NaN    NaN  NaN     NaN    6.000000"
      ]
     },
     "execution_count": 4,
     "metadata": {},
     "output_type": "execute_result"
    }
   ],
   "source": [
    "# Data is clean hence no cleaning required\n",
    "\n",
    "df.describe(include='all')"
   ]
  },
  {
   "cell_type": "code",
   "execution_count": 5,
   "id": "6732bdbd",
   "metadata": {},
   "outputs": [
    {
     "data": {
      "text/plain": [
       "Index(['total_bill', 'tip', 'sex', 'smoker', 'day', 'time', 'size'], dtype='object')"
      ]
     },
     "execution_count": 5,
     "metadata": {},
     "output_type": "execute_result"
    }
   ],
   "source": [
    "df.columns"
   ]
  },
  {
   "cell_type": "code",
   "execution_count": 6,
   "id": "d0cfbcf5",
   "metadata": {},
   "outputs": [
    {
     "data": {
      "text/plain": [
       "(244, 7)"
      ]
     },
     "execution_count": 6,
     "metadata": {},
     "output_type": "execute_result"
    }
   ],
   "source": [
    "df.shape"
   ]
  },
  {
   "cell_type": "code",
   "execution_count": 7,
   "id": "bb34a91b",
   "metadata": {},
   "outputs": [],
   "source": [
    "# Created a new column called percentage to summarize the tip per bill. \n",
    "# This would help in my analysis.\n",
    "\n",
    "df['percentage'] = (df['tip'] / df['total_bill']) * 100"
   ]
  },
  {
   "cell_type": "code",
   "execution_count": 8,
   "id": "a9bafec3",
   "metadata": {},
   "outputs": [
    {
     "data": {
      "text/html": [
       "<div>\n",
       "<style scoped>\n",
       "    .dataframe tbody tr th:only-of-type {\n",
       "        vertical-align: middle;\n",
       "    }\n",
       "\n",
       "    .dataframe tbody tr th {\n",
       "        vertical-align: top;\n",
       "    }\n",
       "\n",
       "    .dataframe thead th {\n",
       "        text-align: right;\n",
       "    }\n",
       "</style>\n",
       "<table border=\"1\" class=\"dataframe\">\n",
       "  <thead>\n",
       "    <tr style=\"text-align: right;\">\n",
       "      <th></th>\n",
       "      <th>total_bill</th>\n",
       "      <th>tip</th>\n",
       "      <th>sex</th>\n",
       "      <th>smoker</th>\n",
       "      <th>day</th>\n",
       "      <th>time</th>\n",
       "      <th>size</th>\n",
       "      <th>percentage</th>\n",
       "    </tr>\n",
       "  </thead>\n",
       "  <tbody>\n",
       "    <tr>\n",
       "      <th>0</th>\n",
       "      <td>16.99</td>\n",
       "      <td>1.01</td>\n",
       "      <td>Female</td>\n",
       "      <td>No</td>\n",
       "      <td>Sun</td>\n",
       "      <td>Dinner</td>\n",
       "      <td>2</td>\n",
       "      <td>5.944673</td>\n",
       "    </tr>\n",
       "    <tr>\n",
       "      <th>1</th>\n",
       "      <td>10.34</td>\n",
       "      <td>1.66</td>\n",
       "      <td>Male</td>\n",
       "      <td>No</td>\n",
       "      <td>Sun</td>\n",
       "      <td>Dinner</td>\n",
       "      <td>3</td>\n",
       "      <td>16.054159</td>\n",
       "    </tr>\n",
       "    <tr>\n",
       "      <th>2</th>\n",
       "      <td>21.01</td>\n",
       "      <td>3.50</td>\n",
       "      <td>Male</td>\n",
       "      <td>No</td>\n",
       "      <td>Sun</td>\n",
       "      <td>Dinner</td>\n",
       "      <td>3</td>\n",
       "      <td>16.658734</td>\n",
       "    </tr>\n",
       "    <tr>\n",
       "      <th>3</th>\n",
       "      <td>23.68</td>\n",
       "      <td>3.31</td>\n",
       "      <td>Male</td>\n",
       "      <td>No</td>\n",
       "      <td>Sun</td>\n",
       "      <td>Dinner</td>\n",
       "      <td>2</td>\n",
       "      <td>13.978041</td>\n",
       "    </tr>\n",
       "    <tr>\n",
       "      <th>4</th>\n",
       "      <td>24.59</td>\n",
       "      <td>3.61</td>\n",
       "      <td>Female</td>\n",
       "      <td>No</td>\n",
       "      <td>Sun</td>\n",
       "      <td>Dinner</td>\n",
       "      <td>4</td>\n",
       "      <td>14.680765</td>\n",
       "    </tr>\n",
       "    <tr>\n",
       "      <th>...</th>\n",
       "      <td>...</td>\n",
       "      <td>...</td>\n",
       "      <td>...</td>\n",
       "      <td>...</td>\n",
       "      <td>...</td>\n",
       "      <td>...</td>\n",
       "      <td>...</td>\n",
       "      <td>...</td>\n",
       "    </tr>\n",
       "    <tr>\n",
       "      <th>239</th>\n",
       "      <td>29.03</td>\n",
       "      <td>5.92</td>\n",
       "      <td>Male</td>\n",
       "      <td>No</td>\n",
       "      <td>Sat</td>\n",
       "      <td>Dinner</td>\n",
       "      <td>3</td>\n",
       "      <td>20.392697</td>\n",
       "    </tr>\n",
       "    <tr>\n",
       "      <th>240</th>\n",
       "      <td>27.18</td>\n",
       "      <td>2.00</td>\n",
       "      <td>Female</td>\n",
       "      <td>Yes</td>\n",
       "      <td>Sat</td>\n",
       "      <td>Dinner</td>\n",
       "      <td>2</td>\n",
       "      <td>7.358352</td>\n",
       "    </tr>\n",
       "    <tr>\n",
       "      <th>241</th>\n",
       "      <td>22.67</td>\n",
       "      <td>2.00</td>\n",
       "      <td>Male</td>\n",
       "      <td>Yes</td>\n",
       "      <td>Sat</td>\n",
       "      <td>Dinner</td>\n",
       "      <td>2</td>\n",
       "      <td>8.822232</td>\n",
       "    </tr>\n",
       "    <tr>\n",
       "      <th>242</th>\n",
       "      <td>17.82</td>\n",
       "      <td>1.75</td>\n",
       "      <td>Male</td>\n",
       "      <td>No</td>\n",
       "      <td>Sat</td>\n",
       "      <td>Dinner</td>\n",
       "      <td>2</td>\n",
       "      <td>9.820426</td>\n",
       "    </tr>\n",
       "    <tr>\n",
       "      <th>243</th>\n",
       "      <td>18.78</td>\n",
       "      <td>3.00</td>\n",
       "      <td>Female</td>\n",
       "      <td>No</td>\n",
       "      <td>Thur</td>\n",
       "      <td>Dinner</td>\n",
       "      <td>2</td>\n",
       "      <td>15.974441</td>\n",
       "    </tr>\n",
       "  </tbody>\n",
       "</table>\n",
       "<p>244 rows × 8 columns</p>\n",
       "</div>"
      ],
      "text/plain": [
       "     total_bill   tip     sex smoker   day    time  size  percentage\n",
       "0         16.99  1.01  Female     No   Sun  Dinner     2    5.944673\n",
       "1         10.34  1.66    Male     No   Sun  Dinner     3   16.054159\n",
       "2         21.01  3.50    Male     No   Sun  Dinner     3   16.658734\n",
       "3         23.68  3.31    Male     No   Sun  Dinner     2   13.978041\n",
       "4         24.59  3.61  Female     No   Sun  Dinner     4   14.680765\n",
       "..          ...   ...     ...    ...   ...     ...   ...         ...\n",
       "239       29.03  5.92    Male     No   Sat  Dinner     3   20.392697\n",
       "240       27.18  2.00  Female    Yes   Sat  Dinner     2    7.358352\n",
       "241       22.67  2.00    Male    Yes   Sat  Dinner     2    8.822232\n",
       "242       17.82  1.75    Male     No   Sat  Dinner     2    9.820426\n",
       "243       18.78  3.00  Female     No  Thur  Dinner     2   15.974441\n",
       "\n",
       "[244 rows x 8 columns]"
      ]
     },
     "execution_count": 8,
     "metadata": {},
     "output_type": "execute_result"
    }
   ],
   "source": [
    "df"
   ]
  },
  {
   "cell_type": "markdown",
   "id": "26cbb134",
   "metadata": {},
   "source": [
    "### To run my statistical analysis"
   ]
  },
  {
   "cell_type": "markdown",
   "id": "d32f05e7",
   "metadata": {},
   "source": [
    "#### T_stat and P_Stat\n",
    "\n",
    "##### Hypothesis \n",
    "Null Hypothesis:\n",
    "• Female tips are not more than male tips \n",
    "\n",
    "Alternate Hypothesis:\n",
    "• Female tips are more than male tips"
   ]
  },
  {
   "cell_type": "code",
   "execution_count": 9,
   "id": "4f1e13e7",
   "metadata": {},
   "outputs": [
    {
     "name": "stdout",
     "output_type": "stream",
     "text": [
      "0       5.944673\n",
      "4      14.680765\n",
      "11     14.180374\n",
      "14     20.364127\n",
      "16     16.166505\n",
      "         ...    \n",
      "226    19.821606\n",
      "229    13.019892\n",
      "238    13.033771\n",
      "240     7.358352\n",
      "243    15.974441\n",
      "Name: percentage, Length: 87, dtype: float64\n"
     ]
    }
   ],
   "source": [
    "# Groupby female per percentage\n",
    "\n",
    "female = df[df['sex'] == 'Female']['percentage']\n",
    "\n",
    "print(female)"
   ]
  },
  {
   "cell_type": "code",
   "execution_count": 10,
   "id": "c3e0515b",
   "metadata": {},
   "outputs": [
    {
     "name": "stdout",
     "output_type": "stream",
     "text": [
      "1      16.054159\n",
      "2      16.658734\n",
      "3      13.978041\n",
      "5      18.623962\n",
      "6      22.805017\n",
      "         ...    \n",
      "236     7.936508\n",
      "237     3.563814\n",
      "239    20.392697\n",
      "241     8.822232\n",
      "242     9.820426\n",
      "Name: percentage, Length: 157, dtype: float64\n"
     ]
    }
   ],
   "source": [
    "# Groupby male per percentage\n",
    "\n",
    "male = df[df['sex'] == 'Male']['percentage']\n",
    "\n",
    "print(male)"
   ]
  },
  {
   "cell_type": "code",
   "execution_count": 11,
   "id": "7839fdd3",
   "metadata": {},
   "outputs": [
    {
     "data": {
      "text/plain": [
       "sex\n",
       "Male      15.765055\n",
       "Female    16.649074\n",
       "Name: percentage, dtype: float64"
      ]
     },
     "execution_count": 11,
     "metadata": {},
     "output_type": "execute_result"
    }
   ],
   "source": [
    "df.groupby('sex')['percentage'].mean()"
   ]
  },
  {
   "cell_type": "code",
   "execution_count": 12,
   "id": "5bb6fc5e",
   "metadata": {},
   "outputs": [
    {
     "name": "stdout",
     "output_type": "stream",
     "text": [
      "T-statistic: 1.0833972270478005\n",
      "P-value: 0.2797103849605485\n"
     ]
    }
   ],
   "source": [
    "# Running the t_stat and p_val\n",
    "\n",
    "t_stat, p_val = stats.ttest_ind(female, male)\n",
    "\n",
    "print(f\"T-statistic: {t_stat}\")\n",
    "print(f\"P-value: {p_val}\")\n",
    "\n",
    "# the higher t-test value suggests that females tip more than males as \n",
    "# shown above by the mean percentage tip by gender."
   ]
  },
  {
   "cell_type": "code",
   "execution_count": 13,
   "id": "1842be3c",
   "metadata": {
    "scrolled": false
   },
   "outputs": [
    {
     "data": {
      "text/plain": [
       "<seaborn.axisgrid.FacetGrid at 0x1eb065ee460>"
      ]
     },
     "execution_count": 13,
     "metadata": {},
     "output_type": "execute_result"
    },
    {
     "data": {
      "image/png": "[encoded data removed]",
      "text/plain": [
       "<Figure size 432.125x360 with 1 Axes>"
      ]
     },
     "metadata": {
      "needs_background": "light"
     },
     "output_type": "display_data"
    }
   ],
   "source": [
    "sns.lmplot(data = df, x='total_bill', y='tip', hue = 'sex')\n"
   ]
  },
  {
   "cell_type": "markdown",
   "id": "e3cd20ad",
   "metadata": {},
   "source": [
    "In this case, the p-value is 0.2797103849605485. This p-value represents the probability of observing a test statistic as extreme as the one calculated if the null hypothesis is true.\n",
    "\n",
    "Since the p-value (0.2797103849605485) is greater than the significance level p>0.5, there isnt strong  evidence to reject the null hypothesis.\n",
    "\n",
    "Therefore null hypothesis is accepeted. ie there is not enough evidence to conclude that female tips are more than male tips."
   ]
  },
  {
   "cell_type": "markdown",
   "id": "fc8f33c6",
   "metadata": {},
   "source": [
    "#### Repeat the same for smokers and non smokers"
   ]
  },
  {
   "cell_type": "code",
   "execution_count": 14,
   "id": "e221791e",
   "metadata": {},
   "outputs": [
    {
     "data": {
      "text/html": [
       "<div>\n",
       "<style scoped>\n",
       "    .dataframe tbody tr th:only-of-type {\n",
       "        vertical-align: middle;\n",
       "    }\n",
       "\n",
       "    .dataframe tbody tr th {\n",
       "        vertical-align: top;\n",
       "    }\n",
       "\n",
       "    .dataframe thead th {\n",
       "        text-align: right;\n",
       "    }\n",
       "</style>\n",
       "<table border=\"1\" class=\"dataframe\">\n",
       "  <thead>\n",
       "    <tr style=\"text-align: right;\">\n",
       "      <th></th>\n",
       "      <th>total_bill</th>\n",
       "      <th>tip</th>\n",
       "      <th>sex</th>\n",
       "      <th>smoker</th>\n",
       "      <th>day</th>\n",
       "      <th>time</th>\n",
       "      <th>size</th>\n",
       "      <th>percentage</th>\n",
       "    </tr>\n",
       "  </thead>\n",
       "  <tbody>\n",
       "    <tr>\n",
       "      <th>0</th>\n",
       "      <td>16.99</td>\n",
       "      <td>1.01</td>\n",
       "      <td>Female</td>\n",
       "      <td>No</td>\n",
       "      <td>Sun</td>\n",
       "      <td>Dinner</td>\n",
       "      <td>2</td>\n",
       "      <td>5.944673</td>\n",
       "    </tr>\n",
       "    <tr>\n",
       "      <th>1</th>\n",
       "      <td>10.34</td>\n",
       "      <td>1.66</td>\n",
       "      <td>Male</td>\n",
       "      <td>No</td>\n",
       "      <td>Sun</td>\n",
       "      <td>Dinner</td>\n",
       "      <td>3</td>\n",
       "      <td>16.054159</td>\n",
       "    </tr>\n",
       "    <tr>\n",
       "      <th>2</th>\n",
       "      <td>21.01</td>\n",
       "      <td>3.50</td>\n",
       "      <td>Male</td>\n",
       "      <td>No</td>\n",
       "      <td>Sun</td>\n",
       "      <td>Dinner</td>\n",
       "      <td>3</td>\n",
       "      <td>16.658734</td>\n",
       "    </tr>\n",
       "    <tr>\n",
       "      <th>3</th>\n",
       "      <td>23.68</td>\n",
       "      <td>3.31</td>\n",
       "      <td>Male</td>\n",
       "      <td>No</td>\n",
       "      <td>Sun</td>\n",
       "      <td>Dinner</td>\n",
       "      <td>2</td>\n",
       "      <td>13.978041</td>\n",
       "    </tr>\n",
       "    <tr>\n",
       "      <th>4</th>\n",
       "      <td>24.59</td>\n",
       "      <td>3.61</td>\n",
       "      <td>Female</td>\n",
       "      <td>No</td>\n",
       "      <td>Sun</td>\n",
       "      <td>Dinner</td>\n",
       "      <td>4</td>\n",
       "      <td>14.680765</td>\n",
       "    </tr>\n",
       "  </tbody>\n",
       "</table>\n",
       "</div>"
      ],
      "text/plain": [
       "   total_bill   tip     sex smoker  day    time  size  percentage\n",
       "0       16.99  1.01  Female     No  Sun  Dinner     2    5.944673\n",
       "1       10.34  1.66    Male     No  Sun  Dinner     3   16.054159\n",
       "2       21.01  3.50    Male     No  Sun  Dinner     3   16.658734\n",
       "3       23.68  3.31    Male     No  Sun  Dinner     2   13.978041\n",
       "4       24.59  3.61  Female     No  Sun  Dinner     4   14.680765"
      ]
     },
     "execution_count": 14,
     "metadata": {},
     "output_type": "execute_result"
    }
   ],
   "source": [
    "df.head()"
   ]
  },
  {
   "cell_type": "markdown",
   "id": "b049ca2e",
   "metadata": {},
   "source": [
    "Hypothesis \n",
    "Null Hypothesis:\n",
    "• Smokers tips are not more than non smoker tips \n",
    "\n",
    "Alternate Hypothesis:\n",
    "• Smoker tips are more than non smoker tips"
   ]
  },
  {
   "cell_type": "code",
   "execution_count": 15,
   "id": "0da8476b",
   "metadata": {
    "scrolled": true
   },
   "outputs": [
    {
     "name": "stdout",
     "output_type": "stream",
     "text": [
      "56      7.892660\n",
      "58     15.658363\n",
      "60     15.820601\n",
      "61     14.482259\n",
      "62     17.967332\n",
      "         ...    \n",
      "234    19.317450\n",
      "236     7.936508\n",
      "237     3.563814\n",
      "240     7.358352\n",
      "241     8.822232\n",
      "Name: percentage, Length: 93, dtype: float64\n"
     ]
    }
   ],
   "source": [
    "smoker = df[df['smoker'] == 'Yes']['percentage']\n",
    "print(smoker)"
   ]
  },
  {
   "cell_type": "code",
   "execution_count": 16,
   "id": "fa773756",
   "metadata": {},
   "outputs": [
    {
     "name": "stdout",
     "output_type": "stream",
     "text": [
      "0       5.944673\n",
      "1      16.054159\n",
      "2      16.658734\n",
      "3      13.978041\n",
      "4      14.680765\n",
      "         ...    \n",
      "235    12.413108\n",
      "238    13.033771\n",
      "239    20.392697\n",
      "242     9.820426\n",
      "243    15.974441\n",
      "Name: percentage, Length: 151, dtype: float64\n"
     ]
    }
   ],
   "source": [
    "non_smoker = df[df['smoker'] == 'No']['percentage']\n",
    "print(non_smoker)"
   ]
  },
  {
   "cell_type": "code",
   "execution_count": 17,
   "id": "4ff4aedf",
   "metadata": {},
   "outputs": [
    {
     "data": {
      "text/plain": [
       "smoker\n",
       "Yes    16.319604\n",
       "No     15.932846\n",
       "Name: percentage, dtype: float64"
      ]
     },
     "execution_count": 17,
     "metadata": {},
     "output_type": "execute_result"
    }
   ],
   "source": [
    "df.groupby('smoker')['percentage'].mean()"
   ]
  },
  {
   "cell_type": "code",
   "execution_count": 18,
   "id": "e5f6aeee",
   "metadata": {},
   "outputs": [
    {
     "name": "stdout",
     "output_type": "stream",
     "text": [
      "T-statistic: 0.4796693002669833\n",
      "P-value: 0.6318957776878545\n"
     ]
    }
   ],
   "source": [
    "t_stat, p_val = stats.ttest_ind(smoker,non_smoker)\n",
    "\n",
    "print(f\"T-statistic: {t_stat}\")\n",
    "print(f\"P-value: {p_val}\")"
   ]
  },
  {
   "cell_type": "code",
   "execution_count": 19,
   "id": "f1e3a508",
   "metadata": {},
   "outputs": [
    {
     "data": {
      "text/plain": [
       "<seaborn.axisgrid.FacetGrid at 0x1eb06e23520>"
      ]
     },
     "execution_count": 19,
     "metadata": {},
     "output_type": "execute_result"
    },
    {
     "data": {
      "image/png": "[encoded data removed]",
      "text/plain": [
       "<Figure size 412x360 with 1 Axes>"
      ]
     },
     "metadata": {
      "needs_background": "light"
     },
     "output_type": "display_data"
    }
   ],
   "source": [
    "sns.lmplot(data = df, x='total_bill', y='tip', hue = 'smoker')"
   ]
  },
  {
   "cell_type": "markdown",
   "id": "7d1b73f8",
   "metadata": {},
   "source": [
    "In this case, the p-value is 0.6318957776878545. \n",
    "\n",
    "Since the p-value (0.6318957776878545) is greater than the significance level p> 0.05, there isnt enough evidence to reject the null hypothesis.\n",
    "\n",
    "Therefore the null hypothesis is accepeted. "
   ]
  },
  {
   "cell_type": "markdown",
   "id": "26da5a63",
   "metadata": {},
   "source": [
    "#### Chi-test\n",
    "\n",
    "\n",
    "The chi-square test was used to examine the association between categorical variables in the dataset.\n",
    "\n",
    "I want to test whether there is an association between the variables 'sex' (male or female) and 'smoker' (yes or no). ie independence of smokers differs between males and females."
   ]
  },
  {
   "cell_type": "code",
   "execution_count": 20,
   "id": "eb5b23fe",
   "metadata": {},
   "outputs": [
    {
     "data": {
      "text/html": [
       "<div>\n",
       "<style scoped>\n",
       "    .dataframe tbody tr th:only-of-type {\n",
       "        vertical-align: middle;\n",
       "    }\n",
       "\n",
       "    .dataframe tbody tr th {\n",
       "        vertical-align: top;\n",
       "    }\n",
       "\n",
       "    .dataframe thead th {\n",
       "        text-align: right;\n",
       "    }\n",
       "</style>\n",
       "<table border=\"1\" class=\"dataframe\">\n",
       "  <thead>\n",
       "    <tr style=\"text-align: right;\">\n",
       "      <th></th>\n",
       "      <th>total_bill</th>\n",
       "      <th>tip</th>\n",
       "      <th>sex</th>\n",
       "      <th>smoker</th>\n",
       "      <th>day</th>\n",
       "      <th>time</th>\n",
       "      <th>size</th>\n",
       "      <th>percentage</th>\n",
       "    </tr>\n",
       "  </thead>\n",
       "  <tbody>\n",
       "    <tr>\n",
       "      <th>0</th>\n",
       "      <td>16.99</td>\n",
       "      <td>1.01</td>\n",
       "      <td>Female</td>\n",
       "      <td>No</td>\n",
       "      <td>Sun</td>\n",
       "      <td>Dinner</td>\n",
       "      <td>2</td>\n",
       "      <td>5.944673</td>\n",
       "    </tr>\n",
       "    <tr>\n",
       "      <th>1</th>\n",
       "      <td>10.34</td>\n",
       "      <td>1.66</td>\n",
       "      <td>Male</td>\n",
       "      <td>No</td>\n",
       "      <td>Sun</td>\n",
       "      <td>Dinner</td>\n",
       "      <td>3</td>\n",
       "      <td>16.054159</td>\n",
       "    </tr>\n",
       "    <tr>\n",
       "      <th>2</th>\n",
       "      <td>21.01</td>\n",
       "      <td>3.50</td>\n",
       "      <td>Male</td>\n",
       "      <td>No</td>\n",
       "      <td>Sun</td>\n",
       "      <td>Dinner</td>\n",
       "      <td>3</td>\n",
       "      <td>16.658734</td>\n",
       "    </tr>\n",
       "    <tr>\n",
       "      <th>3</th>\n",
       "      <td>23.68</td>\n",
       "      <td>3.31</td>\n",
       "      <td>Male</td>\n",
       "      <td>No</td>\n",
       "      <td>Sun</td>\n",
       "      <td>Dinner</td>\n",
       "      <td>2</td>\n",
       "      <td>13.978041</td>\n",
       "    </tr>\n",
       "    <tr>\n",
       "      <th>4</th>\n",
       "      <td>24.59</td>\n",
       "      <td>3.61</td>\n",
       "      <td>Female</td>\n",
       "      <td>No</td>\n",
       "      <td>Sun</td>\n",
       "      <td>Dinner</td>\n",
       "      <td>4</td>\n",
       "      <td>14.680765</td>\n",
       "    </tr>\n",
       "  </tbody>\n",
       "</table>\n",
       "</div>"
      ],
      "text/plain": [
       "   total_bill   tip     sex smoker  day    time  size  percentage\n",
       "0       16.99  1.01  Female     No  Sun  Dinner     2    5.944673\n",
       "1       10.34  1.66    Male     No  Sun  Dinner     3   16.054159\n",
       "2       21.01  3.50    Male     No  Sun  Dinner     3   16.658734\n",
       "3       23.68  3.31    Male     No  Sun  Dinner     2   13.978041\n",
       "4       24.59  3.61  Female     No  Sun  Dinner     4   14.680765"
      ]
     },
     "execution_count": 20,
     "metadata": {},
     "output_type": "execute_result"
    }
   ],
   "source": [
    "df.head()"
   ]
  },
  {
   "cell_type": "code",
   "execution_count": 21,
   "id": "f0d27d1e",
   "metadata": {},
   "outputs": [
    {
     "name": "stdout",
     "output_type": "stream",
     "text": [
      "Chi-squared: 0.0\n",
      "P-value: 1.0\n"
     ]
    }
   ],
   "source": [
    "# Create a contingency table\n",
    "contingency_table = pd.crosstab(df['smoker'], df['sex'])\n",
    "\n",
    "chi2, p_val, dof, expected = stats.chi2_contingency(contingency_table)\n",
    "\n",
    "print(f\"Chi-squared: {chi2}\")\n",
    "print(f\"P-value: {p_val}\")"
   ]
  },
  {
   "cell_type": "markdown",
   "id": "70b72a7c",
   "metadata": {},
   "source": [
    "The chi-squared value of 0.0 and a p-value of 1.0 show that there is no significant association both.\n",
    "\n",
    "There is no difference between the observed and expected frequencies in the contingency table, which means that the variables are independent of each other. Additionally, the p-value shows that the observed association between the variables is due to chance alone and is not statistically significant. In other words, being a smoker or non-smoker does not appear to be related to the gender of the individuals in terms of tipping behavior."
   ]
  },
  {
   "cell_type": "markdown",
   "id": "c943114a",
   "metadata": {},
   "source": [
    "#### Anova"
   ]
  },
  {
   "cell_type": "markdown",
   "id": "fbe4c715",
   "metadata": {},
   "source": [
    "ANOVA is used to analyze the variation between multiple groups. I performed an ANOVA test on the 'total_bill' variable based on the 'time' categories. ie compare the 'total_bill' between the 'Lunch' and 'Dinner' time categories. "
   ]
  },
  {
   "cell_type": "code",
   "execution_count": 22,
   "id": "7b8d32e5",
   "metadata": {},
   "outputs": [
    {
     "name": "stdout",
     "output_type": "stream",
     "text": [
      "ANOVA test results:\n",
      "F-value: 8.396303207955595\n",
      "P-value: 0.00410462140759571\n"
     ]
    }
   ],
   "source": [
    "# Perform the ANOVA test\n",
    "result = stats.f_oneway(df['total_bill'][df['time'] == 'Lunch'],\n",
    "                        df['total_bill'][df['time'] == 'Dinner'],\n",
    "                       )\n",
    "\n",
    "# Print the test results\n",
    "print(\"ANOVA test results:\")\n",
    "print(f\"F-value: {result.statistic}\")\n",
    "print(f\"P-value: {result.pvalue}\")\n"
   ]
  },
  {
   "cell_type": "markdown",
   "id": "03a76313",
   "metadata": {},
   "source": [
    "The ANOVA test results show that there is a significant difference in the mean total bill between the time groups being compared. \n",
    "\n",
    "The F-value of 8.3963 shows that there is a relatively large difference between the means of the time groups compared to the variability within the groups.\n",
    "\n",
    "The p-value of 0.0041, which is less than the significance level of p<0.05 shows that there is strong evidence to reject the null hypothesis, which assumes no significant difference between the group means.\n",
    "\n",
    "In other words, the time category (e.g., 'Lunch' and 'Dinner') has a significant impact on the average total bill amount in the dataset.\n",
    "\n",
    "For further analyses were conducted to identify which specific groups differ significantly from each other and to quantify the effect size of the observed differences. "
   ]
  },
  {
   "cell_type": "code",
   "execution_count": 23,
   "id": "c9ab594a",
   "metadata": {},
   "outputs": [
    {
     "name": "stdout",
     "output_type": "stream",
     "text": [
      "Multiple Comparison of Means - Tukey HSD, FWER=0.05 \n",
      "====================================================\n",
      "group1 group2 meandiff p-adj   lower   upper  reject\n",
      "----------------------------------------------------\n",
      "Dinner  Lunch  -3.6285 0.0041 -6.0951 -1.1618   True\n",
      "----------------------------------------------------\n"
     ]
    }
   ],
   "source": [
    "# Create a MultiComparison object with the data\n",
    "mc_model = mc.MultiComparison(df['total_bill'], df['time'])\n",
    "\n",
    "# Perform the Tukey HSD test\n",
    "tukey_result = mc_model.tukeyhsd()\n",
    "\n",
    "# Print the summary table\n",
    "print(tukey_result.summary())\n"
   ]
  },
  {
   "cell_type": "markdown",
   "id": "680dc9b1",
   "metadata": {},
   "source": [
    "The Tukey HSD test results show that there is a significant difference between the \"Dinner\" and \"Lunch\" groups in terms of the \"total_bill\" variable. The mean difference between these two groups is -3.6285. The confidence interval (lower, upper) for the mean difference is (-6.0951, -1.1618). The p-adj value represents the adjusted p-value after considering multiple comparisons.\n",
    "\n",
    "The mean total bill for the \"Dinner\" group is significantly lower than that of the \"Lunch\" group.\n",
    "\n",
    "The \"reject\" column indicates whether the null hypothesis of no significant difference is rejected or not. In this case, it is marked as \"True,\" indicating that I reject the null hypothesis and conclude that there is a significant difference between the groups."
   ]
  },
  {
   "cell_type": "markdown",
   "id": "91356937",
   "metadata": {},
   "source": [
    "#### Pearson's correlation\n"
   ]
  },
  {
   "cell_type": "markdown",
   "id": "bc1430ca",
   "metadata": {},
   "source": [
    "To conduct Pearson's correlation using the tips dataset, I can use the corr function from pandas. Pearson's correlation coefficient measures the linear relationship between continuous variables, it is only applicable to numeric columns like 'total_bill' and 'tip'.The resulting correlation coefficient  ranges between -1 and 1, where -1 indicates a strong negative linear relationship, 0 indicates no linear relationship, and 1 indicates a strong positive linear relationship."
   ]
  },
  {
   "cell_type": "code",
   "execution_count": 24,
   "id": "6652552e",
   "metadata": {},
   "outputs": [
    {
     "name": "stdout",
     "output_type": "stream",
     "text": [
      "Pearson's correlation coefficient: 0.6757341092113641\n"
     ]
    }
   ],
   "source": [
    "# Calculate Pearson's correlation coefficient\n",
    "corr = df['total_bill'].corr(df['tip'])\n",
    "\n",
    "print(f\"Pearson's correlation coefficient: {corr}\")"
   ]
  },
  {
   "cell_type": "markdown",
   "id": "cc3b71b6",
   "metadata": {},
   "source": [
    "The Pearson's correlation coefficient between 'total_bill' and 'tip' in the tips dataset is approximately 0.676.\n",
    "\n",
    "This positive correlation coefficient shows a moderately strong positive linear relationship between the total bill amount and the tip amount. It indicates that as the total bill increases, the tip amount tends to increase as well. "
   ]
  },
  {
   "cell_type": "markdown",
   "id": "0a82a999",
   "metadata": {},
   "source": [
    "### Conclusion to the tips dataset"
   ]
  },
  {
   "cell_type": "markdown",
   "id": "6508de2d",
   "metadata": {},
   "source": [
    "##### Business Implication\n",
    "\n",
    "Based on the results obtained from the analysis above, the following business implications and strategies can be considered by the restaurant to increase tips and income from customers:\n",
    "\n",
    "- Gender (Male and Female):\n",
    "\n",
    "There is no significant difference in tip amounts between males and females. Therefore, the restaurant can focus on providing excellent service and creating a welcoming atmosphere that appeals to both male and female customers.\n",
    "\n",
    "- Smoking Status (Smoker and Non-Smoker):\n",
    "\n",
    "The analysis indicates no significant difference in tip amounts between smokers and non-smokers. Hence, the restaurant can maintain a consistent level of service quality for both smoker and non-smoker customers.\n",
    "\n",
    "- Time of Day (Lunch vs. Dinner):\n",
    "\n",
    "There is a significant difference in the average total bill amount between lunch and dinner. To increase tips and income during lunch hours, the restaurant can consider strategies such as offering lunch specials, promoting affordable options, and providing efficient service to cater to customers with limited time. For dinner service, the restaurant may focus on enhancing the dining experience, offering premium menu items, and providing exceptional service to encourage higher total bills and subsequently higher tips.\n",
    "\n",
    "- Overall Service and Customer Experience:\n",
    "\n",
    "Regardless of gender, smoking status, or time of day, the key to increasing tips and cash flow is to prioritize exceptional service and create a positive customer experience. This includes attentive and friendly staff, prompt service, ensuring food quality, and maintaining a pleasant ambiance.\n",
    "\n",
    "- Pricing and Menu Strategies:\n",
    "\n",
    "Analyzing the correlation between total bill and tip amount can provide insights into pricing and menu strategies. The restaurant can consider offering menu items at various price points to cater to different customer preferences. Additionally, highlighting value-for-money options and providing clear and transparent pricing can encourage customers to feel satisfied with their dining experience and be more inclined to leave higher tips.\n",
    "\n",
    "- Staff Training and Incentives:\n",
    "\n",
    "Investing in staff training programs to enhance service skills and customer interactions can positively impact tips and income. Empowering staff to provide personalized recommendations, upselling techniques, and creating a warm and memorable dining experience can lead to increased customer satisfaction and higher tips. Consider implementing an incentive program to reward exceptional service and motivate staff to go above and beyond."
   ]
  },
  {
   "cell_type": "markdown",
   "id": "a5a0b0d7",
   "metadata": {},
   "source": [
    "# THE END"
   ]
  }
 ],
 "metadata": {
  "kernelspec": {
   "display_name": "Python 3 (ipykernel)",
   "language": "python",
   "name": "python3"
  },
  "language_info": {
   "codemirror_mode": {
    "name": "ipython",
    "version": 3
   },
   "file_extension": ".py",
   "mimetype": "text/x-python",
   "name": "python",
   "nbconvert_exporter": "python",
   "pygments_lexer": "ipython3",
   "version": "3.9.12"
  }
 },
 "nbformat": 4,
 "nbformat_minor": 5
}
