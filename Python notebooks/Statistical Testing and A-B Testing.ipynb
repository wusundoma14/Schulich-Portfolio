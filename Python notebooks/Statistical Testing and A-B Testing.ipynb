{
 "cells": [
  {
   "cell_type": "markdown",
   "id": "fcd7e967",
   "metadata": {},
   "source": [
    "# Statistical Testing and A/B Testing\n",
    "\n",
    "## Data Science MBAN 6110 T\n",
    "\n",
    "### This notebook is by Nana Amina Abubakar \n",
    "\n",
    "\n",
    "Scenario:\n",
    "You work for a mobile application as a Product Analyst, and you're testing changes to an existing feature. You would like to release changes to a key feature and have prepared 2 possible variants.  You've been running an experiment for 2 weeks, and now have some data with the experiment results. Specifically, you have the Click-Through-Rate (CTR) and Average Time Spent, in minutes, for each feature. The CTR means that the user is moving through different parts of the feature. A CTR of 1 would indicate the user has fully clicked on everything in a feature, while a CTR of 0 means they have not clicked anything. Your task is as follows:\n",
    "\n",
    "1. Analyze the results to determine which feature (if any) results in CTR or Time Spent lift.\n",
    "\n",
    "2. Conduct statistical testing to determine if there is a statistically significant difference between the features and the control group.\n",
    "\n",
    "3. Summarize your results. Make a recommendation to the engineering team about which feature to deploy. \n",
    "\n",
    "4. Create a roll-out plan. How quickly will you introduce the feature to your audience?"
   ]
  },
  {
   "cell_type": "markdown",
   "id": "756a49bd",
   "metadata": {},
   "source": [
    "## Content\n",
    "\n",
    "1. [Import Libraries](#-1.-Import-Libraries)\n",
    "\n",
    "2. [Understanding The Data](#-2.-Understanding-The-Data)\n",
    "\n",
    "3. [Question 1 ](#-3.-Question-1 )\n",
    "\n",
    "4. [Question 2](#-4.-Question-2)\n",
    "\n",
    "5. [Recommendation](#-5.-Recommendation)\n",
    "\n",
    "6. [Roll out plan](#-6-Roll-out-plan)"
   ]
  },
  {
   "cell_type": "markdown",
   "id": "765d6301",
   "metadata": {},
   "source": [
    "# 1. Import Libraries"
   ]
  },
  {
   "cell_type": "code",
   "execution_count": 1,
   "id": "33bca728",
   "metadata": {},
   "outputs": [],
   "source": [
    "import numpy as np\n",
    "import pandas as pd\n",
    "from scipy import stats\n",
    "import matplotlib.pyplot as plt # for plotting\n",
    "import seaborn as sns # for plotting\n",
    "import warnings\n",
    "warnings.filterwarnings('ignore')"
   ]
  },
  {
   "cell_type": "markdown",
   "id": "16f61344",
   "metadata": {},
   "source": [
    "# 2. Understanding The Data"
   ]
  },
  {
   "cell_type": "code",
   "execution_count": 2,
   "id": "f00aac01",
   "metadata": {},
   "outputs": [
    {
     "data": {
      "text/html": [
       "<div>\n",
       "<style scoped>\n",
       "    .dataframe tbody tr th:only-of-type {\n",
       "        vertical-align: middle;\n",
       "    }\n",
       "\n",
       "    .dataframe tbody tr th {\n",
       "        vertical-align: top;\n",
       "    }\n",
       "\n",
       "    .dataframe thead th {\n",
       "        text-align: right;\n",
       "    }\n",
       "</style>\n",
       "<table border=\"1\" class=\"dataframe\">\n",
       "  <thead>\n",
       "    <tr style=\"text-align: right;\">\n",
       "      <th></th>\n",
       "      <th>Unnamed: 0</th>\n",
       "      <th>Age</th>\n",
       "      <th>Location</th>\n",
       "      <th>Device</th>\n",
       "      <th>Variant</th>\n",
       "      <th>Time Spent</th>\n",
       "      <th>CTR</th>\n",
       "    </tr>\n",
       "  </thead>\n",
       "  <tbody>\n",
       "    <tr>\n",
       "      <th>0</th>\n",
       "      <td>0</td>\n",
       "      <td>62</td>\n",
       "      <td>Location2</td>\n",
       "      <td>Device2</td>\n",
       "      <td>Control</td>\n",
       "      <td>13.928669</td>\n",
       "      <td>0.084776</td>\n",
       "    </tr>\n",
       "    <tr>\n",
       "      <th>1</th>\n",
       "      <td>1</td>\n",
       "      <td>18</td>\n",
       "      <td>Location1</td>\n",
       "      <td>Device1</td>\n",
       "      <td>Variant B</td>\n",
       "      <td>11.310518</td>\n",
       "      <td>0.096859</td>\n",
       "    </tr>\n",
       "    <tr>\n",
       "      <th>2</th>\n",
       "      <td>2</td>\n",
       "      <td>21</td>\n",
       "      <td>Location2</td>\n",
       "      <td>Device1</td>\n",
       "      <td>Variant B</td>\n",
       "      <td>24.842100</td>\n",
       "      <td>0.097630</td>\n",
       "    </tr>\n",
       "    <tr>\n",
       "      <th>3</th>\n",
       "      <td>3</td>\n",
       "      <td>21</td>\n",
       "      <td>Location1</td>\n",
       "      <td>Device3</td>\n",
       "      <td>Variant B</td>\n",
       "      <td>20.061300</td>\n",
       "      <td>0.109783</td>\n",
       "    </tr>\n",
       "    <tr>\n",
       "      <th>4</th>\n",
       "      <td>4</td>\n",
       "      <td>57</td>\n",
       "      <td>Location1</td>\n",
       "      <td>Device2</td>\n",
       "      <td>Variant B</td>\n",
       "      <td>34.495503</td>\n",
       "      <td>0.068579</td>\n",
       "    </tr>\n",
       "  </tbody>\n",
       "</table>\n",
       "</div>"
      ],
      "text/plain": [
       "   Unnamed: 0  Age   Location   Device    Variant  Time Spent       CTR\n",
       "0           0   62  Location2  Device2    Control   13.928669  0.084776\n",
       "1           1   18  Location1  Device1  Variant B   11.310518  0.096859\n",
       "2           2   21  Location2  Device1  Variant B   24.842100  0.097630\n",
       "3           3   21  Location1  Device3  Variant B   20.061300  0.109783\n",
       "4           4   57  Location1  Device2  Variant B   34.495503  0.068579"
      ]
     },
     "execution_count": 2,
     "metadata": {},
     "output_type": "execute_result"
    }
   ],
   "source": [
    "df =pd.read_csv('experiment_dataset.csv')\n",
    "df.head()"
   ]
  },
  {
   "cell_type": "code",
   "execution_count": 3,
   "id": "81c192ba",
   "metadata": {},
   "outputs": [
    {
     "data": {
      "text/plain": [
       "(1000, 7)"
      ]
     },
     "execution_count": 3,
     "metadata": {},
     "output_type": "execute_result"
    }
   ],
   "source": [
    "df.shape"
   ]
  },
  {
   "cell_type": "code",
   "execution_count": 4,
   "id": "38c53163",
   "metadata": {},
   "outputs": [
    {
     "name": "stdout",
     "output_type": "stream",
     "text": [
      "<class 'pandas.core.frame.DataFrame'>\n",
      "RangeIndex: 1000 entries, 0 to 999\n",
      "Data columns (total 7 columns):\n",
      " #   Column      Non-Null Count  Dtype  \n",
      "---  ------      --------------  -----  \n",
      " 0   Unnamed: 0  1000 non-null   int64  \n",
      " 1   Age         1000 non-null   int64  \n",
      " 2   Location    1000 non-null   object \n",
      " 3   Device      1000 non-null   object \n",
      " 4   Variant     1000 non-null   object \n",
      " 5   Time Spent  1000 non-null   float64\n",
      " 6   CTR         1000 non-null   float64\n",
      "dtypes: float64(2), int64(2), object(3)\n",
      "memory usage: 54.8+ KB\n"
     ]
    }
   ],
   "source": [
    "df.info()"
   ]
  },
  {
   "cell_type": "code",
   "execution_count": 5,
   "id": "b52cf424",
   "metadata": {
    "scrolled": false
   },
   "outputs": [
    {
     "data": {
      "text/html": [
       "<div>\n",
       "<style scoped>\n",
       "    .dataframe tbody tr th:only-of-type {\n",
       "        vertical-align: middle;\n",
       "    }\n",
       "\n",
       "    .dataframe tbody tr th {\n",
       "        vertical-align: top;\n",
       "    }\n",
       "\n",
       "    .dataframe thead th {\n",
       "        text-align: right;\n",
       "    }\n",
       "</style>\n",
       "<table border=\"1\" class=\"dataframe\">\n",
       "  <thead>\n",
       "    <tr style=\"text-align: right;\">\n",
       "      <th></th>\n",
       "      <th>Unnamed: 0</th>\n",
       "      <th>Age</th>\n",
       "      <th>Location</th>\n",
       "      <th>Device</th>\n",
       "      <th>Variant</th>\n",
       "      <th>Time Spent</th>\n",
       "      <th>CTR</th>\n",
       "    </tr>\n",
       "  </thead>\n",
       "  <tbody>\n",
       "    <tr>\n",
       "      <th>count</th>\n",
       "      <td>1000.000000</td>\n",
       "      <td>1000.000000</td>\n",
       "      <td>1000</td>\n",
       "      <td>1000</td>\n",
       "      <td>1000</td>\n",
       "      <td>1000.000000</td>\n",
       "      <td>1000.000000</td>\n",
       "    </tr>\n",
       "    <tr>\n",
       "      <th>unique</th>\n",
       "      <td>NaN</td>\n",
       "      <td>NaN</td>\n",
       "      <td>3</td>\n",
       "      <td>3</td>\n",
       "      <td>3</td>\n",
       "      <td>NaN</td>\n",
       "      <td>NaN</td>\n",
       "    </tr>\n",
       "    <tr>\n",
       "      <th>top</th>\n",
       "      <td>NaN</td>\n",
       "      <td>NaN</td>\n",
       "      <td>Location2</td>\n",
       "      <td>Device3</td>\n",
       "      <td>Control</td>\n",
       "      <td>NaN</td>\n",
       "      <td>NaN</td>\n",
       "    </tr>\n",
       "    <tr>\n",
       "      <th>freq</th>\n",
       "      <td>NaN</td>\n",
       "      <td>NaN</td>\n",
       "      <td>343</td>\n",
       "      <td>346</td>\n",
       "      <td>340</td>\n",
       "      <td>NaN</td>\n",
       "      <td>NaN</td>\n",
       "    </tr>\n",
       "    <tr>\n",
       "      <th>mean</th>\n",
       "      <td>499.500000</td>\n",
       "      <td>40.715000</td>\n",
       "      <td>NaN</td>\n",
       "      <td>NaN</td>\n",
       "      <td>NaN</td>\n",
       "      <td>22.713345</td>\n",
       "      <td>0.109145</td>\n",
       "    </tr>\n",
       "    <tr>\n",
       "      <th>std</th>\n",
       "      <td>288.819436</td>\n",
       "      <td>13.655557</td>\n",
       "      <td>NaN</td>\n",
       "      <td>NaN</td>\n",
       "      <td>NaN</td>\n",
       "      <td>5.479292</td>\n",
       "      <td>0.022366</td>\n",
       "    </tr>\n",
       "    <tr>\n",
       "      <th>min</th>\n",
       "      <td>0.000000</td>\n",
       "      <td>18.000000</td>\n",
       "      <td>NaN</td>\n",
       "      <td>NaN</td>\n",
       "      <td>NaN</td>\n",
       "      <td>7.114806</td>\n",
       "      <td>0.012975</td>\n",
       "    </tr>\n",
       "    <tr>\n",
       "      <th>25%</th>\n",
       "      <td>249.750000</td>\n",
       "      <td>28.000000</td>\n",
       "      <td>NaN</td>\n",
       "      <td>NaN</td>\n",
       "      <td>NaN</td>\n",
       "      <td>19.216608</td>\n",
       "      <td>0.094286</td>\n",
       "    </tr>\n",
       "    <tr>\n",
       "      <th>50%</th>\n",
       "      <td>499.500000</td>\n",
       "      <td>41.000000</td>\n",
       "      <td>NaN</td>\n",
       "      <td>NaN</td>\n",
       "      <td>NaN</td>\n",
       "      <td>22.506707</td>\n",
       "      <td>0.108944</td>\n",
       "    </tr>\n",
       "    <tr>\n",
       "      <th>75%</th>\n",
       "      <td>749.250000</td>\n",
       "      <td>53.000000</td>\n",
       "      <td>NaN</td>\n",
       "      <td>NaN</td>\n",
       "      <td>NaN</td>\n",
       "      <td>26.255950</td>\n",
       "      <td>0.124238</td>\n",
       "    </tr>\n",
       "    <tr>\n",
       "      <th>max</th>\n",
       "      <td>999.000000</td>\n",
       "      <td>64.000000</td>\n",
       "      <td>NaN</td>\n",
       "      <td>NaN</td>\n",
       "      <td>NaN</td>\n",
       "      <td>39.395770</td>\n",
       "      <td>0.172728</td>\n",
       "    </tr>\n",
       "  </tbody>\n",
       "</table>\n",
       "</div>"
      ],
      "text/plain": [
       "         Unnamed: 0          Age   Location   Device  Variant   Time Spent  \\\n",
       "count   1000.000000  1000.000000       1000     1000     1000  1000.000000   \n",
       "unique          NaN          NaN          3        3        3          NaN   \n",
       "top             NaN          NaN  Location2  Device3  Control          NaN   \n",
       "freq            NaN          NaN        343      346      340          NaN   \n",
       "mean     499.500000    40.715000        NaN      NaN      NaN    22.713345   \n",
       "std      288.819436    13.655557        NaN      NaN      NaN     5.479292   \n",
       "min        0.000000    18.000000        NaN      NaN      NaN     7.114806   \n",
       "25%      249.750000    28.000000        NaN      NaN      NaN    19.216608   \n",
       "50%      499.500000    41.000000        NaN      NaN      NaN    22.506707   \n",
       "75%      749.250000    53.000000        NaN      NaN      NaN    26.255950   \n",
       "max      999.000000    64.000000        NaN      NaN      NaN    39.395770   \n",
       "\n",
       "                CTR  \n",
       "count   1000.000000  \n",
       "unique          NaN  \n",
       "top             NaN  \n",
       "freq            NaN  \n",
       "mean       0.109145  \n",
       "std        0.022366  \n",
       "min        0.012975  \n",
       "25%        0.094286  \n",
       "50%        0.108944  \n",
       "75%        0.124238  \n",
       "max        0.172728  "
      ]
     },
     "execution_count": 5,
     "metadata": {},
     "output_type": "execute_result"
    }
   ],
   "source": [
    "df.describe(include='all')"
   ]
  },
  {
   "cell_type": "code",
   "execution_count": 6,
   "id": "7df2bcb9",
   "metadata": {},
   "outputs": [
    {
     "data": {
      "text/plain": [
       "Index(['Unnamed: 0', 'Age', 'Location', 'Device', 'Variant', 'Time Spent',\n",
       "       'CTR'],\n",
       "      dtype='object')"
      ]
     },
     "execution_count": 6,
     "metadata": {},
     "output_type": "execute_result"
    }
   ],
   "source": [
    "df.columns"
   ]
  },
  {
   "cell_type": "markdown",
   "id": "9f3900f2",
   "metadata": {},
   "source": [
    "# 3. Question 1 "
   ]
  },
  {
   "cell_type": "markdown",
   "id": "11a6d32f",
   "metadata": {},
   "source": [
    "### Analyze the results to determine which feature (if any) results in CTR or Time Spent lift."
   ]
  },
  {
   "cell_type": "code",
   "execution_count": 7,
   "id": "ef420b65",
   "metadata": {},
   "outputs": [
    {
     "data": {
      "text/plain": [
       "Variant\n",
       "Control      0.098554\n",
       "Variant A    0.120269\n",
       "Variant B    0.108933\n",
       "Name: CTR, dtype: float64"
      ]
     },
     "execution_count": 7,
     "metadata": {},
     "output_type": "execute_result"
    }
   ],
   "source": [
    "# 3. Analyze results\n",
    "ctr_mean = df.groupby('Variant')['CTR'].mean()\n",
    "ctr_mean"
   ]
  },
  {
   "cell_type": "code",
   "execution_count": 8,
   "id": "0d33e939",
   "metadata": {},
   "outputs": [
    {
     "data": {
      "text/plain": [
       "Variant\n",
       "Control      20.070781\n",
       "Variant A    24.805547\n",
       "Variant B    23.343783\n",
       "Name: Time Spent, dtype: float64"
      ]
     },
     "execution_count": 8,
     "metadata": {},
     "output_type": "execute_result"
    }
   ],
   "source": [
    "time_spent_mean = df.groupby('Variant')['Time Spent'].mean()\n",
    "time_spent_mean"
   ]
  },
  {
   "cell_type": "code",
   "execution_count": 9,
   "id": "3aac5325",
   "metadata": {},
   "outputs": [
    {
     "data": {
      "image/png": "[encoded data removed]",
      "text/plain": [
       "<Figure size 864x360 with 2 Axes>"
      ]
     },
     "metadata": {
      "needs_background": "light"
     },
     "output_type": "display_data"
    }
   ],
   "source": [
    "# Create scatter plots\n",
    "fig, axs = plt.subplots(1, 2, figsize=(12, 5))\n",
    "\n",
    "# Scatter plot for CTR\n",
    "axs[0].scatter(df['Variant'], df['CTR'], color='blue')\n",
    "axs[0].axhline(ctr_mean['Control'], color='red', linestyle='--', label='Control Mean')\n",
    "axs[0].axhline(ctr_mean['Variant A'], color='green', linestyle='--', label='Variant A Mean')\n",
    "axs[0].axhline(ctr_mean['Variant B'], color='orange', linestyle='--', label='Variant B Mean')\n",
    "axs[0].set_xlabel('Variant')\n",
    "axs[0].set_ylabel('CTR')\n",
    "axs[0].set_title('CTR by Variant')\n",
    "axs[0].legend()\n",
    "\n",
    "# Scatter plot for Average Time Spent\n",
    "axs[1].scatter(df['Variant'], df['Time Spent'], color='blue')\n",
    "axs[1].axhline(time_spent_mean['Control'], color='red', linestyle='--', label='Control Mean')\n",
    "axs[1].axhline(time_spent_mean['Variant A'], color='green', linestyle='--', label='Variant A Mean')\n",
    "axs[1].axhline(time_spent_mean['Variant B'], color='orange', linestyle='--', label='Variant B Mean')\n",
    "axs[1].set_xlabel('Variant')\n",
    "axs[1].set_ylabel('Average Time Spent')\n",
    "axs[1].set_title('Average Time Spent by Variant')\n",
    "axs[1].legend()\n",
    "\n",
    "# Adjust the layout\n",
    "plt.tight_layout()\n",
    "\n",
    "# Show the plots\n",
    "plt.show()"
   ]
  },
  {
   "cell_type": "markdown",
   "id": "3103ad82",
   "metadata": {},
   "source": [
    " Conclusion shows that Variant A has a higher CTR and Average time spent."
   ]
  },
  {
   "cell_type": "markdown",
   "id": "61a2ca1c",
   "metadata": {},
   "source": [
    "# 4. Question 2"
   ]
  },
  {
   "cell_type": "markdown",
   "id": "8d45c382",
   "metadata": {},
   "source": [
    "### Conduct statistical testing to determine if there is a statistically significant difference between the features and the control group."
   ]
  },
  {
   "cell_type": "code",
   "execution_count": 10,
   "id": "7e8aadf2",
   "metadata": {},
   "outputs": [
    {
     "data": {
      "image/png": "[encoded data removed]",
      "text/plain": [
       "<Figure size 864x288 with 2 Axes>"
      ]
     },
     "metadata": {
      "needs_background": "light"
     },
     "output_type": "display_data"
    },
    {
     "data": {
      "image/png": "[encoded data removed]",
      "text/plain": [
       "<Figure size 864x288 with 2 Axes>"
      ]
     },
     "metadata": {
      "needs_background": "light"
     },
     "output_type": "display_data"
    },
    {
     "data": {
      "image/png": "[encoded data removed]",
      "text/plain": [
       "<Figure size 432x288 with 2 Axes>"
      ]
     },
     "metadata": {
      "needs_background": "light"
     },
     "output_type": "display_data"
    }
   ],
   "source": [
    "# To provide insights into the \n",
    "# normality (bell-shaped distributions), \n",
    "# homogeneity (similar distribution shapes), and \n",
    "# independence (lack of strong correlations) of the data.\n",
    "\n",
    "# Plot histograms to visualize the distribution of CTR and Time Spent by variant\n",
    "plt.figure(figsize=(12, 4))\n",
    "plt.subplot(1, 2, 1)\n",
    "sns.histplot(data=df, x='CTR', hue='Variant', kde=True)\n",
    "plt.title('CTR Distribution by Variant')\n",
    "\n",
    "plt.subplot(1, 2, 2)\n",
    "sns.histplot(data=df, x='Time Spent', hue='Variant', kde=True)\n",
    "plt.title('Time Spent Distribution by Variant')\n",
    "\n",
    "plt.tight_layout()\n",
    "plt.show()\n",
    "\n",
    "# Plot box plots to compare the distributions of CTR and Time Spent between variants\n",
    "plt.figure(figsize=(12, 4))\n",
    "plt.subplot(1, 2, 1)\n",
    "sns.boxplot(data=df, x='Variant', y='CTR')\n",
    "plt.title('CTR Box Plot by Variant')\n",
    "\n",
    "plt.subplot(1, 2, 2)\n",
    "sns.boxplot(data=df, x='Variant', y='Time Spent')\n",
    "plt.title('Time Spent Box Plot by Variant')\n",
    "\n",
    "plt.tight_layout()\n",
    "plt.show()\n",
    "\n",
    "# Calculate correlation matrix \n",
    "corr_matrix = df[['CTR', 'Time Spent']].corr()\n",
    "\n",
    "# Plot correlation matrix heatmap to assess the independence between CTR and Time Spent\n",
    "plt.figure(figsize=(6, 4))\n",
    "sns.heatmap(corr_matrix, annot=True, cmap='coolwarm')\n",
    "plt.title('Correlation Matrix')\n",
    "\n",
    "plt.tight_layout()\n",
    "plt.show()"
   ]
  },
  {
   "cell_type": "code",
   "execution_count": 11,
   "id": "f65c4a5d",
   "metadata": {},
   "outputs": [],
   "source": [
    "# Perform statistical testing\n",
    "control_ctr = df[df['Variant'] == 'Control']['CTR']\n",
    "variantA_ctr = df[df['Variant'] == 'Variant A']['CTR']\n",
    "variantB_ctr = df[df['Variant'] == 'Variant B']['CTR']"
   ]
  },
  {
   "cell_type": "code",
   "execution_count": 12,
   "id": "7c8a0302",
   "metadata": {},
   "outputs": [],
   "source": [
    "control_time_spent = df[df['Variant'] == 'Control']['Time Spent']\n",
    "variantA_time_spent = df[df['Variant'] == 'Variant A']['Time Spent']\n",
    "variantB_time_spent = df[df['Variant'] == 'Variant B']['Time Spent']"
   ]
  },
  {
   "cell_type": "code",
   "execution_count": 13,
   "id": "06cc6812",
   "metadata": {},
   "outputs": [
    {
     "name": "stdout",
     "output_type": "stream",
     "text": [
      "CTR results:\n",
      "Control vs. Variant A - t-statistic: -13.829424737499187\n",
      "Control vs. Variant A - p-value: 1.9602781373243157e-38\n",
      "Control vs. Variant B - t-statistic: -6.4718143491783255\n",
      "Control vs. Variant B - p-value: 1.8743198199982106e-10\n"
     ]
    }
   ],
   "source": [
    "# T-test for CTR\n",
    "t_stat_ctr, p_value_ctr = stats.ttest_ind(control_ctr, variantA_ctr)\n",
    "t_stat_ctr2, p_value_ctr2 = stats.ttest_ind(control_ctr, variantB_ctr)\n",
    "\n",
    "# Summarize the results\n",
    "print(\"CTR results:\")\n",
    "print(\"Control vs. Variant A - t-statistic:\", t_stat_ctr)\n",
    "print(\"Control vs. Variant A - p-value:\", p_value_ctr)\n",
    "print(\"Control vs. Variant B - t-statistic:\", t_stat_ctr2)\n",
    "print(\"Control vs. Variant B - p-value:\", p_value_ctr2)"
   ]
  },
  {
   "cell_type": "code",
   "execution_count": 14,
   "id": "30065059",
   "metadata": {},
   "outputs": [
    {
     "name": "stdout",
     "output_type": "stream",
     "text": [
      "\n",
      "Average Time Spent results:\n",
      "Control vs. Variant A - t-statistic: -12.142363487472364\n",
      "Control vs. Variant A - p-value: 8.488565644996449e-31\n",
      "Control vs. Variant B - t-statistic: -8.174237395991806\n",
      "Control vs. Variant B - p-value: 1.496358076285182e-15\n"
     ]
    }
   ],
   "source": [
    "# T-test for Average Time Spent\n",
    "t_stat_time_spent, p_value_time_spent = stats.ttest_ind(control_time_spent, variantA_time_spent)\n",
    "t_stat_time_spent2, p_value_time_spent2 = stats.ttest_ind(control_time_spent, variantB_time_spent)\n",
    "\n",
    "# Summarize the results\n",
    "print(\"\\nAverage Time Spent results:\")\n",
    "print(\"Control vs. Variant A - t-statistic:\", t_stat_time_spent)\n",
    "print(\"Control vs. Variant A - p-value:\", p_value_time_spent)\n",
    "print(\"Control vs. Variant B - t-statistic:\", t_stat_time_spent2)\n",
    "print(\"Control vs. Variant B - p-value:\", p_value_time_spent2)"
   ]
  },
  {
   "cell_type": "markdown",
   "id": "d3bd3b91",
   "metadata": {},
   "source": [
    "From the analyses above, p>0.05 hence there is not enough evidence to reject the null hypothesis. However the P values for variant A (time spent and CTR) are higher than that of variant B. This shows that variant A performed slighly better and will be the obvious choice."
   ]
  },
  {
   "cell_type": "markdown",
   "id": "a171ff79",
   "metadata": {},
   "source": [
    "#####  Anova test"
   ]
  },
  {
   "cell_type": "code",
   "execution_count": 15,
   "id": "be1da76e",
   "metadata": {},
   "outputs": [
    {
     "name": "stdout",
     "output_type": "stream",
     "text": [
      "F_onewayResult(statistic=93.58891593622698, pvalue=5.638952705781955e-38)\n"
     ]
    }
   ],
   "source": [
    "# checking CTR\n",
    "Control_CTR = df[df['Variant']=='Control']['CTR']\n",
    "VariantA_CTR = df[df['Variant']=='Variant A']['CTR']\n",
    "VariantB_CTR = df[df['Variant']=='Variant B']['CTR']\n",
    "\n",
    "p_val = stats.f_oneway(Control_CTR, VariantA_CTR, VariantB_CTR)\n",
    "print(p_val)"
   ]
  },
  {
   "cell_type": "markdown",
   "id": "73c63304",
   "metadata": {},
   "source": [
    "The ANOVA test for time spent indicates that there is a significant difference in the mean time spent across different groups or conditions. The large F-value suggests a substantial difference between the group means relative to the variability within each group. The extremely small p-value (close to zero) indicates that the probability of observing such a large F-value by chance, assuming the null hypothesis is true, is extremely low. Therefore, we reject the null hypothesis and conclude that there is a statistically significant difference in the mean time spent among the groups being compared."
   ]
  },
  {
   "cell_type": "code",
   "execution_count": 16,
   "id": "d8500f62",
   "metadata": {},
   "outputs": [
    {
     "name": "stdout",
     "output_type": "stream",
     "text": [
      "F_onewayResult(statistic=75.60840947416148, pvalue=2.676826588910432e-31)\n"
     ]
    }
   ],
   "source": [
    "# checking Average Time Spent\n",
    "Control_Time_Spent = df[df['Variant']=='Control']['Time Spent']\n",
    "VariantA_Time_Spent = df[df['Variant']=='Variant A']['Time Spent']\n",
    "VariantB_Time_Spent = df[df['Variant']=='Variant B']['Time Spent']\n",
    "\n",
    "p_val = stats.f_oneway(Control_Time_Spent, VariantA_Time_Spent, VariantB_Time_Spent)\n",
    "print(p_val)"
   ]
  },
  {
   "cell_type": "markdown",
   "id": "8c8af86f",
   "metadata": {},
   "source": [
    "The ANOVA test for CTR indicates that there is a significant difference in the mean CTR across different groups or conditions. Similar to the time spent ANOVA, the large F-value suggests a substantial difference between the group means relative to the variability within each group. The extremely small p-value (close to zero) indicates that the probability of observing such a large F-value by chance, assuming the null hypothesis is true, is extremely low. Therefore, we reject the null hypothesis and conclude that there is a statistically significant difference in the mean CTR among the groups being compared."
   ]
  },
  {
   "cell_type": "markdown",
   "id": "f30dc988",
   "metadata": {},
   "source": [
    "# 5. Recommendation"
   ]
  },
  {
   "cell_type": "markdown",
   "id": "e9d6c9a3",
   "metadata": {},
   "source": [
    "#### Summarize your results. Make a recommendation to the engineering team about which feature to deploy."
   ]
  },
  {
   "cell_type": "markdown",
   "id": "0c2b51a4",
   "metadata": {},
   "source": [
    "\n",
    "Based on the results of the statistical tests, I have summarized the findings as follows:\n",
    "\n",
    "\n",
    "##### CTR results:\n",
    "\n",
    "- Control vs. Variant A: The t-statistic is -13.83, and the p-value is extremely small (1.96e-38). This indicates a statistically significant difference in CTR between the Control group and Variant A.\n",
    "- Control vs. Variant B: The t-statistic is -6.47, and the p-value is also very small (1.87e-10). This suggests a statistically significant difference in CTR between the Control group and Variant B.\n",
    "\n",
    "\n",
    "\n",
    "##### Average Time Spent results:\n",
    "\n",
    "- Control vs. Variant A: The t-statistic is -12.14, and the p-value is extremely small (8.49e-31). This indicates a statistically significant difference in Average Time Spent between the Control group and Variant A.\n",
    "- Control vs. Variant B: The t-statistic is -8.17, and the p-value is very small (1.50e-15). This suggests a statistically significant difference in Average Time Spent between the Control group and Variant B.\n",
    "\n",
    "\n",
    "\n",
    "##### Anova\n",
    "\n",
    "- Time Spent: The ANOVA test results indicate a significant difference in the mean time spent across different groups or conditions (F-value: 75.61, p-value: 2.68e-31). This implies that there are meaningful variations in the time spent among the groups, suggesting that the changes in the feature have an impact on user engagement and time spent.\n",
    "\n",
    "- CTR: The ANOVA test reveals a significant difference in the mean Click-Through-Rate (CTR) across different groups or conditions (F-value: 93.59, p-value: 5.64e-38). This implies that the different feature variants or conditions have distinct effects on the CTR, indicating that certain changes in the feature design or presentation can influence user interaction and click-through behavior.\n",
    "\n",
    "\n",
    "\n",
    "However, it is important to note that the effect sizes and p-values suggest that Variant A has a stronger impact on user engagement than Variant B. Therefore, my recommendation to the engineering team is to deploy Variant A, as it demonstrates a larger effect size and a more significant improvement in both CTR and Average Time Spent compared to the Control group.\n",
    "\n",
    "By deploying Variant A, the mobile application is likely to experience increased user engagement, higher CTR, and longer Average Time Spent, which can ultimately lead to improved user satisfaction, better feature performance, and potentially increased revenue or desired outcomes for the business."
   ]
  },
  {
   "cell_type": "markdown",
   "id": "58edafb8",
   "metadata": {},
   "source": [
    "# 6. Roll out plan"
   ]
  },
  {
   "cell_type": "markdown",
   "id": "759e775f",
   "metadata": {},
   "source": [
    "#### Create a roll-out plan. How quickly will you introduce the feature to your audience?"
   ]
  },
  {
   "cell_type": "markdown",
   "id": "71416026",
   "metadata": {},
   "source": [
    "Below is my suggested roll-out plan post experiment:\n",
    "\n",
    "##### Rollout Plan:\n",
    "\n",
    "##### Phase 1: Gradual Expansion by Device and Location\n",
    "\n",
    "Duration: 2-4 weeks\n",
    "\n",
    "Based on the results and feedback from the pilot phase, proceed with a gradual expansion approach.\n",
    "- Initially, introduce the feature to a subset of users from different devices and locations, ensuring representative coverage.\n",
    "- Monitor the impact of the feature variant on key metrics and gather user feedback specific to each device and location.\n",
    "- Analyze the data to identify any potential variations in user engagement and satisfaction based on device or location.\n",
    "\n",
    "\n",
    "##### Phase 2: Full Rollout\n",
    "\n",
    "Duration: 1-2 weeks\n",
    "\n",
    "- Based on the insights gathered from the gradual expansion phase, proceed with the full rollout to all remaining users, taking into consideration any device or location-specific adjustments if necessary.\n",
    "- Monitor the overall impact on key metrics and closely analyze user feedback during this phase.\n",
    "\n",
    "\n",
    "##### Post-Rollout Analysis and Optimization\n",
    "\n",
    "Duration: Ongoing\n",
    "\n",
    "- Conduct regular analysis of user engagement, CTR, and Average Time Spent after the full rollout, considering device and location segments.\n",
    "- Identify any areas for improvement and optimize the feature based on device and location-specific insights, user feedback, and data analysis.\n",
    "- Continuously monitor and evaluate the performance of the deployed feature variant for each device and location segment to ensure its effectiveness and user satisfaction.\n",
    "\n",
    "\n",
    "\n",
    "The entire rollout plan should be communicated to all stakeholders, including the engineering team, product managers, and other relevant parties, to ensure alignment and facilitate a smooth deployment process."
   ]
  },
  {
   "cell_type": "markdown",
   "id": "20867ad5",
   "metadata": {},
   "source": [
    "# The END"
   ]
  }
 ],
 "metadata": {
  "kernelspec": {
   "display_name": "Python 3 (ipykernel)",
   "language": "python",
   "name": "python3"
  },
  "language_info": {
   "codemirror_mode": {
    "name": "ipython",
    "version": 3
   },
   "file_extension": ".py",
   "mimetype": "text/x-python",
   "name": "python",
   "nbconvert_exporter": "python",
   "pygments_lexer": "ipython3",
   "version": "3.9.12"
  }
 },
 "nbformat": 4,
 "nbformat_minor": 5
}
